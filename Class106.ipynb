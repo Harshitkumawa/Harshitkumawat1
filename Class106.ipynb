{
 "cells": [
  {
   "cell_type": "code",
   "execution_count": 7,
   "id": "d834b885-8509-476f-b67c-061b7dd81f0b",
   "metadata": {},
   "outputs": [
    {
     "data": {
      "text/plain": [
       "10"
      ]
     },
     "execution_count": 7,
     "metadata": {},
     "output_type": "execute_result"
    }
   ],
   "source": [
    "a=5\n",
    "b=5\n",
    "lambda x,y : x+y\n",
    "add=lambda x,y : x+y\n",
    "add(a,b)"
   ]
  },
  {
   "cell_type": "code",
   "execution_count": 12,
   "id": "291a6bee-e169-45a1-9c88-bc756f4eb0cf",
   "metadata": {},
   "outputs": [
    {
     "data": {
      "text/plain": [
       "1"
      ]
     },
     "execution_count": 12,
     "metadata": {},
     "output_type": "execute_result"
    }
   ],
   "source": [
    "lambda x,y : x\n",
    "add(1,0)"
   ]
  },
  {
   "cell_type": "code",
   "execution_count": 13,
   "id": "c0f6b19b-440f-4592-a8ae-c86a27bee25a",
   "metadata": {},
   "outputs": [
    {
     "data": {
      "text/plain": [
       "1"
      ]
     },
     "execution_count": 13,
     "metadata": {},
     "output_type": "execute_result"
    }
   ],
   "source": [
    "lambda x,y : y\n",
    "add(1,0)"
   ]
  },
  {
   "cell_type": "markdown",
   "id": "a411a6a9-4286-49bb-adf7-6a7bd7666228",
   "metadata": {},
   "source": [
    "lambda "
   ]
  },
  {
   "cell_type": "code",
   "execution_count": 18,
   "id": "af9a9ebd-eee5-4867-94b8-eaef190cfbe7",
   "metadata": {},
   "outputs": [
    {
     "data": {
      "text/plain": [
       "<function __main__.<lambda>(n)>"
      ]
     },
     "execution_count": 18,
     "metadata": {},
     "output_type": "execute_result"
    }
   ],
   "source": [
    "n=4\n",
    "lambda n : n%2 and 'odd' or 'even'\n"
   ]
  },
  {
   "cell_type": "code",
   "execution_count": 36,
   "id": "82d669c9-fbf4-47fd-b533-9f5e1053760f",
   "metadata": {},
   "outputs": [
    {
     "name": "stdin",
     "output_type": "stream",
     "text": [
      " 4\n",
      " 2\n"
     ]
    },
    {
     "ename": "NameError",
     "evalue": "name 'div' is not defined",
     "output_type": "error",
     "traceback": [
      "\u001b[1;31m---------------------------------------------------------------------------\u001b[0m",
      "\u001b[1;31mNameError\u001b[0m                                 Traceback (most recent call last)",
      "Cell \u001b[1;32mIn[36], line 4\u001b[0m\n\u001b[0;32m      2\u001b[0m m\u001b[38;5;241m=\u001b[39m\u001b[38;5;28mint\u001b[39m(\u001b[38;5;28minput\u001b[39m())\n\u001b[0;32m      3\u001b[0m \u001b[38;5;28;01mlambda\u001b[39;00m x,y: x\u001b[38;5;241m%\u001b[39my\n\u001b[1;32m----> 4\u001b[0m \u001b[43mdiv\u001b[49m(n,m)\n\u001b[0;32m      5\u001b[0m \u001b[38;5;28;01mif\u001b[39;00m (n\u001b[38;5;241m%\u001b[39mm\u001b[38;5;241m==\u001b[39m\u001b[38;5;241m2\u001b[39m):\n\u001b[0;32m      6\u001b[0m      \u001b[38;5;28mprint\u001b[39m(\u001b[38;5;124m\"\u001b[39m\u001b[38;5;124mGolden ratio\u001b[39m\u001b[38;5;124m\"\u001b[39m)\n",
      "\u001b[1;31mNameError\u001b[0m: name 'div' is not defined"
     ]
    }
   ],
   "source": [
    "n=int(input())\n",
    "m=int(input())\n",
    "lambda x,y: x%y\n",
    "div(n,m)\n",
    "if (n%m==2):\n",
    "     print(\"Golden ratio\")\n",
    "else:\n",
    "    print(\"not\")\n"
   ]
  },
  {
   "cell_type": "code",
   "execution_count": null,
   "id": "46c93f1d-dcff-43c9-9a4d-72dd46845a65",
   "metadata": {},
   "outputs": [],
   "source": []
  }
 ],
 "metadata": {
  "kernelspec": {
   "display_name": "Python 3 (ipykernel)",
   "language": "python",
   "name": "python3"
  },
  "language_info": {
   "codemirror_mode": {
    "name": "ipython",
    "version": 3
   },
   "file_extension": ".py",
   "mimetype": "text/x-python",
   "name": "python",
   "nbconvert_exporter": "python",
   "pygments_lexer": "ipython3",
   "version": "3.12.2"
  }
 },
 "nbformat": 4,
 "nbformat_minor": 5
}
