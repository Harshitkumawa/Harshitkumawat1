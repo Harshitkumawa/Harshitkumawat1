{
 "cells": [
  {
   "cell_type": "code",
   "execution_count": null,
   "id": "8cde335c-67df-4ffa-8ad3-3df6c4f83e8a",
   "metadata": {},
   "outputs": [],
   "source": [
    "import turtle\n",
    "har=turtle.Turtle()\n",
    "har.shape(\"classic\")\n",
    "har.color(\"red\")\n",
    "wn=turtle.Screen()\n",
    "wn.bgcolor(\"black\")\n",
    "wn.title(\"practice\")\n"
   ]
  }
 ],
 "metadata": {
  "kernelspec": {
   "display_name": "Python 3 (ipykernel)",
   "language": "python",
   "name": "python3"
  },
  "language_info": {
   "codemirror_mode": {
    "name": "ipython",
    "version": 3
   },
   "file_extension": ".py",
   "mimetype": "text/x-python",
   "name": "python",
   "nbconvert_exporter": "python",
   "pygments_lexer": "ipython3",
   "version": "3.12.3"
  }
 },
 "nbformat": 4,
 "nbformat_minor": 5
}
