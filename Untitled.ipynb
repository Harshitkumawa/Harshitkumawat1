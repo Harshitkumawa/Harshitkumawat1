{
 "cells": [
  {
   "cell_type": "code",
   "execution_count": 1,
   "id": "93ce12a1-eee7-4db2-8f08-17af0abea693",
   "metadata": {},
   "outputs": [
    {
     "name": "stdin",
     "output_type": "stream",
     "text": [
      "put the principle amount  1000\n",
      "put the rate of interest  14\n",
      "put the time period  14\n"
     ]
    },
    {
     "name": "stdout",
     "output_type": "stream",
     "text": [
      "2960\n"
     ]
    },
    {
     "data": {
      "text/plain": [
       "1060"
      ]
     },
     "execution_count": 1,
     "metadata": {},
     "output_type": "execute_result"
    }
   ],
   "source": [
    "# Write a Program to calculate simple interest and add it to the priciple amount \n",
    "p=int(input(\"put the principle amount \"))\n",
    "r=int(input(\"put the rate of interest \"))\n",
    "t=int(input(\"put the time period \"))\n",
    "x =(p*r*t)//100\n",
    "print(x+p)\n",
    "\n",
    "\n",
    "\n",
    "\n",
    "\n",
    "\n",
    "\n",
    "\n",
    "# Input Test Case \n",
    "\n",
    "1000\n",
    "6\n",
    "1\n",
    "\n",
    "#Output Test Case \n",
    "1060\n"
   ]
  },
  {
   "cell_type": "code",
   "execution_count": 2,
   "id": "b72da68a-7377-4194-8dca-9ceecd47d1a8",
   "metadata": {},
   "outputs": [
    {
     "ename": "SyntaxError",
     "evalue": "invalid non-printable character U+00A0 (1109862444.py, line 8)",
     "output_type": "error",
     "traceback": [
      "\u001b[1;36m  Cell \u001b[1;32mIn[2], line 8\u001b[1;36m\u001b[0m\n\u001b[1;33m    i=i+1\u001b[0m\n\u001b[1;37m    ^\u001b[0m\n\u001b[1;31mSyntaxError\u001b[0m\u001b[1;31m:\u001b[0m invalid non-printable character U+00A0\n"
     ]
    }
   ],
   "source": [
    "up = input(\"Enter your password : \")\n",
    "i=0\n",
    "while i<len(up) :\n",
    "    if (up[i].isdigit()) :\n",
    "        print(\"Index : \",i,\" Value : \",up[i])\n",
    "        break\n",
    "    print(\"Index : \",i,\" Value : \",up[i])\n",
    "    i=i+1"
   ]
  },
  {
   "cell_type": "code",
   "execution_count": 2,
   "id": "c6492191-72f4-4755-bb04-656e2ec435ca",
   "metadata": {},
   "outputs": [
    {
     "ename": "NameError",
     "evalue": "name 'a' is not defined",
     "output_type": "error",
     "traceback": [
      "\u001b[1;31m---------------------------------------------------------------------------\u001b[0m",
      "\u001b[1;31mNameError\u001b[0m                                 Traceback (most recent call last)",
      "Cell \u001b[1;32mIn[2], line 1\u001b[0m\n\u001b[1;32m----> 1\u001b[0m \u001b[43ma\u001b[49m\u001b[38;5;241m.\u001b[39mascii()\n\u001b[0;32m      2\u001b[0m a\n",
      "\u001b[1;31mNameError\u001b[0m: name 'a' is not defined"
     ]
    }
   ],
   "source": [
    "\n",
    "ascii()\n",
    "a"
   ]
  },
  {
   "cell_type": "code",
   "execution_count": 38,
   "id": "65b1f21b-46c5-4c64-9161-86932715510f",
   "metadata": {},
   "outputs": [
    {
     "ename": "ValueError",
     "evalue": "Exceeds the limit (4300 digits) for integer string conversion; use sys.set_int_max_str_digits() to increase the limit",
     "output_type": "error",
     "traceback": [
      "\u001b[1;31m---------------------------------------------------------------------------\u001b[0m",
      "\u001b[1;31mValueError\u001b[0m                                Traceback (most recent call last)",
      "Cell \u001b[1;32mIn[38], line 6\u001b[0m\n\u001b[0;32m      4\u001b[0m     \u001b[38;5;28;01melse\u001b[39;00m:\n\u001b[0;32m      5\u001b[0m         \u001b[38;5;28;01mreturn\u001b[39;00m n\u001b[38;5;241m*\u001b[39mfact(n\u001b[38;5;241m-\u001b[39m\u001b[38;5;241m1\u001b[39m)\n\u001b[1;32m----> 6\u001b[0m \u001b[38;5;28;43mprint\u001b[39;49m\u001b[43m(\u001b[49m\u001b[43mfact\u001b[49m\u001b[43m(\u001b[49m\u001b[38;5;241;43m1559\u001b[39;49m\u001b[43m)\u001b[49m\u001b[43m)\u001b[49m\n",
      "\u001b[1;31mValueError\u001b[0m: Exceeds the limit (4300 digits) for integer string conversion; use sys.set_int_max_str_digits() to increase the limit"
     ]
    }
   ],
   "source": [
    "def fact(n):\n",
    "    if (n<2):\n",
    "        return 1\n",
    "    else:\n",
    "        return n*fact(n-1)\n",
    "print(fact(1559))"
   ]
  },
  {
   "cell_type": "code",
   "execution_count": 24,
   "id": "0fd4d932-1a47-4073-8cfe-2bd7b349738f",
   "metadata": {},
   "outputs": [
    {
     "name": "stdout",
     "output_type": "stream",
     "text": [
      "120\n"
     ]
    }
   ],
   "source": [
    "n=5\n",
    "def fact(n):\n",
    "    total=1\n",
    "    for i in range(1,n+1):\n",
    "        total=total*i\n",
    "    return total\n",
    "print(fact(5))"
   ]
  },
  {
   "cell_type": "code",
   "execution_count": 77,
   "id": "cdd59d28-c478-4a44-801c-d0bf7ff0a549",
   "metadata": {},
   "outputs": [
    {
     "name": "stdin",
     "output_type": "stream",
     "text": [
      " 4\n"
     ]
    },
    {
     "name": "stdout",
     "output_type": "stream",
     "text": [
      "4\n"
     ]
    }
   ],
   "source": [
    "n=int(input())\n",
    "i=0\n",
    "for i in range(i<=n):\n",
    "    z=x+y\n",
    "    x+=1\n",
    "    y+=1\n",
    "    y=x\n",
    "    z=y\n",
    "print(z)"
   ]
  },
  {
   "cell_type": "code",
   "execution_count": 70,
   "id": "f125fbbd-1dad-415a-aa89-9ed01348bbc9",
   "metadata": {},
   "outputs": [
    {
     "data": {
      "text/plain": [
       "610"
      ]
     },
     "execution_count": 70,
     "metadata": {},
     "output_type": "execute_result"
    }
   ],
   "source": [
    "def fabo(n):\n",
    "    if n<=2:\n",
    "        return 1\n",
    "    else:\n",
    "        return fabo(n-2)+fabo(n-1)\n",
    "fabo(15)                "
   ]
  },
  {
   "cell_type": "code",
   "execution_count": 76,
   "id": "0c434abd-815b-406e-8895-c38fb24fa672",
   "metadata": {},
   "outputs": [
    {
     "name": "stdout",
     "output_type": "stream",
     "text": [
      "43466557686937456435688527675040625802564660517371780402481729089536555417949051890403879840079255169295922593080322634775209689623239873322471161642996440906533187938298969649928516003704476137795166849228875\n",
      "0.0066907405853271484\n"
     ]
    }
   ],
   "source": [
    "import time\n",
    "begin=time.time()\n",
    "memory={0:0,1:1}\n",
    "def fin_update(n):\n",
    "    if n not in memory:\n",
    "        memory[n]=fin_update(n-1)+fin_update(n-2)\n",
    "    return memory[n]\n",
    "print(fin_update(1000))\n",
    "end=time.time()\n",
    "total=end-begin\n",
    "print(total)"
   ]
  },
  {
   "cell_type": "code",
   "execution_count": 72,
   "id": "c8dc4629-5391-45be-bb73-456071131988",
   "metadata": {},
   "outputs": [
    {
     "name": "stdout",
     "output_type": "stream",
     "text": [
      "43466557686937456435688527675040625802564660517371780402481729089536555417949051890403879840079255169295922593080322634775209689623239873322471161642996440906533187938298969649928516003704476137795166849228875\n"
     ]
    }
   ],
   "source": [
    "print(fin_update(1000))"
   ]
  },
  {
   "cell_type": "code",
   "execution_count": 87,
   "id": "1ab8b23c-caa0-449c-98d1-0ba1c256f852",
   "metadata": {},
   "outputs": [
    {
     "name": "stdout",
     "output_type": "stream",
     "text": [
      "Time Required to Execute 0.07375380001030862\n"
     ]
    }
   ],
   "source": [
    "from timeit import timeit\n",
    "def fibser():\n",
    "    n=100\n",
    "    if n<=2:\n",
    "        return 1\n",
    "   \n",
    "print(\"Time Required to Execute\",timeit(fibser))\n",
    "                "
   ]
  },
  {
   "cell_type": "code",
   "execution_count": 88,
   "id": "5c8da94d-9b71-4eb9-a8ee-1bf266dd715d",
   "metadata": {},
   "outputs": [
    {
     "name": "stdout",
     "output_type": "stream",
     "text": [
      "Welcome to Python 3.12's help utility! If this is your first time using\n",
      "Python, you should definitely check out the tutorial at\n",
      "https://docs.python.org/3.12/tutorial/.\n",
      "\n",
      "Enter the name of any module, keyword, or topic to get help on writing\n",
      "Python programs and using Python modules.  To get a list of available\n",
      "modules, keywords, symbols, or topics, enter \"modules\", \"keywords\",\n",
      "\"symbols\", or \"topics\".\n",
      "\n",
      "Each module also comes with a one-line summary of what it does; to list\n",
      "the modules whose name or summary contain a given string such as \"spam\",\n",
      "enter \"modules spam\".\n",
      "\n",
      "To quit this help utility and return to the interpreter,\n",
      "enter \"q\" or \"quit\".\n",
      "\n",
      "\n",
      "You are now leaving help and returning to the Python interpreter.\n",
      "If you want to ask for help on a particular object directly from the\n",
      "interpreter, you can type \"help(object)\".  Executing \"help('string')\"\n",
      "has the same effect as typing a particular string at the help> prompt.\n"
     ]
    }
   ],
   "source": [
    "help()"
   ]
  },
  {
   "cell_type": "code",
   "execution_count": 2,
   "id": "76bcc5eb-2666-4fa6-a985-561fae8b9e08",
   "metadata": {},
   "outputs": [
    {
     "name": "stdout",
     "output_type": "stream",
     "text": [
      "Help on function nothing in module __main__:\n",
      "\n",
      "nothing(a, b)\n",
      "    nothing takes two integers\n",
      "\n"
     ]
    }
   ],
   "source": [
    "def nothing(a,b):\n",
    "    \"\"\"nothing takes two integers\"\"\"\n",
    "    return a+b\n",
    "help(nothing)"
   ]
  },
  {
   "cell_type": "code",
   "execution_count": 26,
   "id": "501ffb0b-1c98-4e09-ac3d-342b0eeebfbf",
   "metadata": {},
   "outputs": [
    {
     "name": "stdout",
     "output_type": "stream",
     "text": [
      "{'sem1': [1, 2, 3], 'sem2': [3, 4, 5], 'sem3': [6, 7, 3], 'sem4': [9, 7, 4]}\n"
     ]
    }
   ],
   "source": [
    "l1=['sem1','sem2','sem3','sem4']\n",
    "l2=[[1,2,3],[3,4,5],[6,7,3],[9,7,4]]\n",
    "e=[]\n",
    "for (ele1,ele2) in zip(l1,l2):\n",
    "    tupple=(ele1,ele2)\n",
    "    e.append(tupple)\n",
    "e=dict(e)\n",
    "print(e)"
   ]
  },
  {
   "cell_type": "code",
   "execution_count": 20,
   "id": "7028dc47-5f05-4c77-8564-fd0254ce282c",
   "metadata": {},
   "outputs": [
    {
     "name": "stdout",
     "output_type": "stream",
     "text": [
      "[1, 2, 3] , [1, 2, 3]\n"
     ]
    }
   ],
   "source": [
    "lis1=(1,2,3)\n",
    "lis2=(1,2,3)\n",
    "a=list(lis1)\n",
    "b=list(lis2)\n",
    "print(a,\",\",b)"
   ]
  },
  {
   "cell_type": "code",
   "execution_count": 22,
   "id": "e79fd214-057e-4536-8987-9ecc31569482",
   "metadata": {},
   "outputs": [
    {
     "data": {
      "text/plain": [
       "{'sem1': ['ITD', 'CCT', 'EM', 'EP', 'JOM']}"
      ]
     },
     "execution_count": 22,
     "metadata": {},
     "output_type": "execute_result"
    }
   ],
   "source": [
    "l=[('sem1',['ITD','CCT','EM','EP','JOM'])]\n",
    "dict(l)"
   ]
  },
  {
   "cell_type": "code",
   "execution_count": null,
   "id": "70e0cd81-5512-4acc-a3cb-5471259b4749",
   "metadata": {},
   "outputs": [],
   "source": [
    "'''\n",
    "Created on April 25, 2024\n",
    "\n",
    "@author: Rushikesh\n",
    "'''\n",
    "\n",
    "import turtle  # allows us to use the turtles library\n",
    "\n",
    "wn = turtle.Screen()  # creates a graphics window\n",
    "t=turtle.Turtle()\n",
    "h=turtle.Turtle()\n",
    "p=turtle.Turtle()\n",
    "c=turtle.Turtle()\n",
    "s=turtle.Turtle()\n",
    "g=turtle.Turtle()\n",
    "w=turtle.Turtle()\n",
    "\n",
    "def create_square(t):\n",
    "    \"\"\"Write your function defination here and tell us what\n",
    "     it do?\"\"\"\n",
    "    t.penup()\n",
    "    t.goto(-200, 200)  # Move the turtle to the starting position\n",
    "    t.pendown()\n",
    "    t.forward(100)\n",
    "    t.left(90)\n",
    "    t.forward(100)\n",
    "    t.left(90)\n",
    "    t.forward(100)\n",
    "    t.left(90)\n",
    "    t.forward(100)\n",
    "def create_triangle(h):\n",
    "    \"\"\"Write your function defination here and tell us what\n",
    "     it do?\"\"\"\n",
    "    h.penup()\n",
    "    h.goto(100, 170)  # Move the turtle to the starting position\n",
    "    h.pendown()\n",
    "    h.forward(100)\n",
    "    h.left(120)\n",
    "    h.forward(100)\n",
    "    h.left(120)\n",
    "    h.forward(100)\n",
    "def create_penta(p):\n",
    "    \"\"\"Write your function defination here and tell us what\n",
    "     it do?\"\"\"\n",
    "    p.penup()\n",
    "    p.goto(45, 0)\n",
    "    p.pendown()\n",
    "    \n",
    "    # Draw a pentagon\n",
    "    p.forward(100)\n",
    "    p.left(72)\n",
    "    p.forward(100)\n",
    "    p.left(72)\n",
    "    p.forward(100)\n",
    "    p.left(72)\n",
    "    p.forward(100)\n",
    "    p.left(72)\n",
    "    p.forward(100)\n",
    "def create_circle(c):\n",
    "    \"\"\"Write your function defination here and tell us what\n",
    "     it do?\"\"\"\n",
    "    c.penup()\n",
    "    c.goto(-45, -45)  # Move the turtle to the starting position\n",
    "    c.pendown()\n",
    "    c.circle(50)\n",
    "def create_star(s):\n",
    "    \"\"\"Write your function defination here and tell us what\n",
    "     it do?\"\"\"\n",
    "    s.penup()\n",
    "    s.goto(180, 270)  # Move the turtle to the starting position\n",
    "    s.pendown()\n",
    "    i=0\n",
    "    for i in range(5):\n",
    "        s.forward(100)\n",
    "        s.right(144)\n",
    "def create_pat(g):\n",
    "    \"\"\"Write your function defination here and tell us what\n",
    "     it do?\"\"\"\n",
    "    g.penup()\n",
    "    g.goto(180, -270)\n",
    "    g.pendown()\n",
    "    i=0\n",
    "    for i in range(100):\n",
    "        g.forward(i)\n",
    "        g.right(90)\n",
    "def create_pat2(w):\n",
    "    \"\"\"Write your function defination here and tell us what\n",
    "     it do?\"\"\"\n",
    "    w.penup()\n",
    "    w.goto(360, -270)\n",
    "    w.pendown()\n",
    "    i=0\n",
    "    for i in range(50):\n",
    "        w.circle(i)\n",
    "if __name__ == \"__main__\":\n",
    "    def sketch():\n",
    "        create_square(t)\n",
    "        create_triangle(h)\n",
    "        create_penta(p)\n",
    "        create_circle(c)\n",
    "        create_star(s)\n",
    "        create_pat(g)\n",
    "        create_pat2(w)\n",
    "        wn.exitonclick()\n",
    "\n",
    "sketch()"
   ]
  },
  {
   "cell_type": "code",
   "execution_count": null,
   "id": "bacc3db8-caf7-43dc-b148-c28c8356a4c9",
   "metadata": {},
   "outputs": [],
   "source": []
  },
  {
   "cell_type": "code",
   "execution_count": null,
   "id": "2698363c-7ec6-4485-90c5-d9637ab9fa44",
   "metadata": {},
   "outputs": [],
   "source": []
  }
 ],
 "metadata": {
  "kernelspec": {
   "display_name": "Python 3 (ipykernel)",
   "language": "python",
   "name": "python3"
  },
  "language_info": {
   "codemirror_mode": {
    "name": "ipython",
    "version": 3
   },
   "file_extension": ".py",
   "mimetype": "text/x-python",
   "name": "python",
   "nbconvert_exporter": "python",
   "pygments_lexer": "ipython3",
   "version": "3.12.3"
  }
 },
 "nbformat": 4,
 "nbformat_minor": 5
}
