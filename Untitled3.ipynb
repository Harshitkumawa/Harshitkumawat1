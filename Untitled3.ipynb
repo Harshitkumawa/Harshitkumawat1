{
 "cells": [
  {
   "cell_type": "code",
   "execution_count": 63,
   "id": "893036c3-d433-48c1-9bf5-b306da221b82",
   "metadata": {},
   "outputs": [
    {
     "name": "stdin",
     "output_type": "stream",
     "text": [
      " 1\n",
      " 4\n",
      " 5\n",
      " 5\n",
      " 8\n"
     ]
    },
    {
     "ename": "NameError",
     "evalue": "name 'n' is not defined",
     "output_type": "error",
     "traceback": [
      "\u001b[1;31m---------------------------------------------------------------------------\u001b[0m",
      "\u001b[1;31mNameError\u001b[0m                                 Traceback (most recent call last)",
      "Cell \u001b[1;32mIn[63], line 22\u001b[0m\n\u001b[0;32m     20\u001b[0m     t\u001b[38;5;241m=\u001b[39mn\u001b[38;5;241m/\u001b[39mIMC\n\u001b[0;32m     21\u001b[0m     \u001b[38;5;28;01mreturn\u001b[39;00m t\n\u001b[1;32m---> 22\u001b[0m \u001b[38;5;28mprint\u001b[39m(\u001b[43mTotal_ROI\u001b[49m\u001b[43m(\u001b[49m\u001b[43m)\u001b[49m)\n",
      "Cell \u001b[1;32mIn[63], line 20\u001b[0m, in \u001b[0;36mTotal_ROI\u001b[1;34m()\u001b[0m\n\u001b[0;32m     19\u001b[0m \u001b[38;5;28;01mdef\u001b[39;00m \u001b[38;5;21mTotal_ROI\u001b[39m():\n\u001b[1;32m---> 20\u001b[0m     t\u001b[38;5;241m=\u001b[39m\u001b[43mn\u001b[49m\u001b[38;5;241m/\u001b[39mIMC\n\u001b[0;32m     21\u001b[0m     \u001b[38;5;28;01mreturn\u001b[39;00m t\n",
      "\u001b[1;31mNameError\u001b[0m: name 'n' is not defined"
     ]
    }
   ],
   "source": [
    "ASP=input()\n",
    "CCR=input()\n",
    "ICR=input()\n",
    "IMC=input()\n",
    "EPL=input()\n",
    "i=0.05\n",
    "def future_gain():\n",
    "    n=(ASP*(ICR/CCR))-ASP((1+i)**EPL-1)/i-IMC*(1+i)**EPL\n",
    "    return n\n",
    "def total_gain():\n",
    "    a=n/(1+i)**EPL\n",
    "    return a\n",
    "def Annual_gain():\n",
    "    b=a/EPL\n",
    "    return(b)\n",
    "def Annual_ROI():\n",
    "    c=b/IMC\n",
    "    return c\n",
    "def Total_ROI():\n",
    "    t=n/IMC\n",
    "    return t\n",
    "print(Total_ROI())"
   ]
  },
  {
   "cell_type": "code",
   "execution_count": 45,
   "id": "01027692-7172-4cfe-bb57-38c5af65aee8",
   "metadata": {},
   "outputs": [
    {
     "name": "stdin",
     "output_type": "stream",
     "text": [
      " 1000000\n",
      " 10\n",
      " 15\n",
      " 100000\n",
      " 3\n"
     ]
    },
    {
     "name": "stdout",
     "output_type": "stream",
     "text": [
      "1500000\n",
      "157625.00000000012\n",
      "1342375.0\n",
      "-115762.45000000001\n"
     ]
    }
   ],
   "source": [
    "def Future_gain_from_improvement():\n",
    "    n=(ASP*(ICR/CCR))-ASP*((1+i)*EPL-1)/i-IMC*(1+i)**EPL\n",
    "    return n\n",
    "ASP=int(input())\n",
    "CCR=int(input())\n",
    "ICR=int(input())\n",
    "IMC=int(input())\n",
    "EPL=int(input())\n",
    "i=0.05\n",
    "n=ASP*ICR//CCR\n",
    "print(n)\n",
    "u=((1+i) ** EPL)- 1\n",
    "m=ASP * u\n",
    "print(m)\n",
    "x=n-m\n",
    "print(x)\n",
    "y=i- IMC * ((1+i)**EPL)\n",
    "h=x//y\n",
    "print(y)"
   ]
  },
  {
   "cell_type": "code",
   "execution_count": null,
   "id": "77944f8e-94c8-4e34-a6cd-98bcdbc9a01f",
   "metadata": {},
   "outputs": [],
   "source": [
    "ASP * (ICR / CCR) - ASP * (((1 + i) ** EPL - 1) / i) - IMC * (1 + i) ** EPL"
   ]
  },
  {
   "cell_type": "code",
   "execution_count": 33,
   "id": "796c5126-0bcc-4800-861f-82608e4fa9e8",
   "metadata": {},
   "outputs": [
    {
     "name": "stdin",
     "output_type": "stream",
     "text": [
      " 1000000\n",
      " 10\n",
      " 15\n",
      " 100000\n",
      " 3\n"
     ]
    },
    {
     "name": "stdout",
     "output_type": "stream",
     "text": [
      "-4083512.5000000023\n"
     ]
    }
   ],
   "source": [
    "def Future_gain_from_improvement():\n",
    "    n=(ASP*(ICR/CCR))-ASP*((1+i)*EPL-1)/i-IMC*(1+i)**EPL\n",
    "    return n\n",
    "ASP=float(input())\n",
    "CCR=float(input())\n",
    "ICR=float(input())\n",
    "IMC=float(input())\n",
    "EPL=float(input())\n",
    "i=float(0.05)\n",
    "n=ASP * (ICR / CCR) - ASP * (((1 + i) ** EPL - 1) / i) - IMC * (1 + i) ** EPL / i - IMC * (1 + i) ** EPL\n",
    "print(n)"
   ]
  },
  {
   "cell_type": "code",
   "execution_count": 80,
   "id": "da33605c-b4d1-44c7-878c-12001c060e2b",
   "metadata": {},
   "outputs": [
    {
     "name": "stdin",
     "output_type": "stream",
     "text": [
      "Enter Annual Site Profit :  1000000\n",
      "Enter Improved Conversion Rate:  15\n",
      "Enter Current Conversion Rate :  10\n",
      "Enter Expected Project Life :  3\n",
      "Enter Improvement Cost :  100000\n",
      "Enter interest rate :  0.05\n"
     ]
    },
    {
     "name": "stdout",
     "output_type": "stream",
     "text": [
      "Future Gain from Improvement =  1460487\n",
      "Total Gain from Improvement =  1261624\n",
      "Annual Gain from Improvement =  420541\n",
      "Annual ROI =  420541 : 100000 = 4.20541\n",
      "Total ROI =  1261624 : 100000 = 12.61624\n"
     ]
    }
   ],
   "source": [
    "def future_gain():#define the future gain with the help of function\n",
    "    n= (ASP*ICR//CCR - ASP) * ((1+i) ** EPL- 1) // i - IMC * ((1+i)**EPL)\n",
    "    return n\n",
    "def total_gain():#define the total gain with the help of function\n",
    "    a=n/(1+i)**EPL\n",
    "    return a\n",
    "def Annual_gain():#define the annual gain with the help of function\n",
    "    b=a/EPL\n",
    "    return(b)\n",
    "def Annual_ROI():#define the annual ROI with the help of function\n",
    "    c=b/IMC\n",
    "    return c\n",
    "def Total_ROI():#define the total ROI with the help of function\n",
    "    t=a/IMC\n",
    "    return t\n",
    "# ASKING USER TO INPUT ALL VALUES WHICH ARE REQUIRED TO FINDING TOTAL ROI\n",
    "ASP=int(input(\"Enter Annual Site Profit : \"))\n",
    "ICR=int(input(\"Enter Improved Conversion Rate: \"))\n",
    "CCR=int(input(\"Enter Current Conversion Rate : \"))\n",
    "EPL=int(input(\"Enter Expected Project Life : \"))\n",
    "IMC=int(input(\"Enter Improvement Cost : \"))\n",
    "i=float(input(\"Enter interest rate : \"))\n",
    "n= (ASP*ICR//CCR - ASP) * ((1+i) ** EPL- 1) // i - IMC * ((1+i)**EPL)# Formula for future gain\n",
    "a=n/(1+i)**EPL# Formula for Total_gain \n",
    "b=a/EPL # Formula for Annual_gain\n",
    "c = int(float(b)) / IMC # Formula for Annual_ROI\n",
    "d = int(float(a)) / IMC # Formula for Total_ROI\n",
    "print(\"Future Gain from Improvement = \",int(float(n)))\n",
    "print(\"Total Gain from Improvement = \",int(float(a)))\n",
    "print(\"Annual Gain from Improvement = \",int(float(b)))\n",
    "print(\"Annual ROI = \",int(float(b)), \":\", IMC,\"=\",c) # Convert float into integers\n",
    "print(\"Total ROI = \",int(float(a)), \":\", IMC,\"=\",d) # Convert Float into integers"
   ]
  },
  {
   "cell_type": "code",
   "execution_count": 55,
   "id": "2d233567-683b-4ed1-bb27-026716943686",
   "metadata": {},
   "outputs": [
    {
     "name": "stdin",
     "output_type": "stream",
     "text": [
      " 1000000\n",
      " 10\n",
      " 15\n",
      " 100000\n",
      " 3\n"
     ]
    },
    {
     "name": "stdout",
     "output_type": "stream",
     "text": [
      "1460487.5\n"
     ]
    }
   ],
   "source": [
    "def Future_gain_from_improvement():\n",
    "    n=(ASP*(ICR/CCR))-ASP*((1+i)*EPL-1)/i-IMC*(1+i)**EPL\n",
    "    return n\n",
    "ASP=int(input())\n",
    "CCR=int(input())\n",
    "ICR=int(input())\n",
    "IMC=int(input())\n",
    "EPL=int(input())\n",
    "i=0.05\n",
    "n= (ASP*ICR//CCR - ASP) * ((1+i) ** EPL- 1) // i - IMC * ((1+i)**EPL)\n",
    "print(n)"
   ]
  },
  {
   "cell_type": "code",
   "execution_count": 73,
   "id": "efea23e7-b1e3-4c3d-99c6-135d5c951f72",
   "metadata": {},
   "outputs": [
    {
     "name": "stdout",
     "output_type": "stream",
     "text": [
      "The ratio is: 2.0\n"
     ]
    }
   ],
   "source": [
    "# Define two values\n",
    "value1 = 10\n",
    "value2 = 5\n",
    "\n",
    "# Calculate the ratio\n",
    "ratio = value1 / value2\n",
    "\n",
    "# Print the ratio\n",
    "print(\"The ratio is:\", ratio)\n"
   ]
  },
  {
   "cell_type": "code",
   "execution_count": 14,
   "id": "bebd58c5-1cb1-4ebb-b61e-4dbabaaf5385",
   "metadata": {},
   "outputs": [
    {
     "name": "stdout",
     "output_type": "stream",
     "text": [
      "[1, 2, 3]\n"
     ]
    }
   ],
   "source": [
    "lis=[1,2,3,2]\n",
    "for i in range(len(lis)):\n",
    "    lis=lis[0:3];\n",
    "    i=i+1\n",
    "print(lis)"
   ]
  },
  {
   "cell_type": "code",
   "execution_count": 40,
   "id": "445ff76f-3bdf-47c6-acb7-583c86ea6758",
   "metadata": {},
   "outputs": [
    {
     "name": "stdout",
     "output_type": "stream",
     "text": [
      "lis2 is: [1, 2, 3, 4]\n"
     ]
    }
   ],
   "source": [
    "lis1=[1,2,3,4]\n",
    "lis2=lis1.copy()\n",
    "print(\"lis2 is:\",lis2)"
   ]
  },
  {
   "cell_type": "code",
   "execution_count": 53,
   "id": "d7c8ff9b-0f8d-4032-9b59-f7e30fd62649",
   "metadata": {},
   "outputs": [
    {
     "ename": "SyntaxError",
     "evalue": "invalid syntax (3472395668.py, line 1)",
     "output_type": "error",
     "traceback": [
      "\u001b[1;36m  Cell \u001b[1;32mIn[53], line 1\u001b[1;36m\u001b[0m\n\u001b[1;33m    raise:\u001b[0m\n\u001b[1;37m         ^\u001b[0m\n\u001b[1;31mSyntaxError\u001b[0m\u001b[1;31m:\u001b[0m invalid syntax\n"
     ]
    }
   ],
   "source": [
    "raise:\n",
    "if ele in l1,l2==0:\n",
    "print(\"VECTOR @\")\n",
    "l=len(input())\n",
    "l1=[1,2,3,4]\n",
    "l2=[1,2,3,4]\n",
    "for ele1,ele2 in lis1,lis2:\n",
    "    c=ele1//ele2\n",
    "    c=l1.append\n",
    "    c=l2.append\n",
    "    return c"
   ]
  },
  {
   "cell_type": "code",
   "execution_count": 1,
   "id": "3a5d5e4e-0d48-49f1-a67d-5a38431371f2",
   "metadata": {},
   "outputs": [
    {
     "ename": "KeyboardInterrupt",
     "evalue": "",
     "output_type": "error",
     "traceback": [
      "\u001b[1;31m---------------------------------------------------------------------------\u001b[0m",
      "\u001b[1;31mKeyboardInterrupt\u001b[0m                         Traceback (most recent call last)",
      "Cell \u001b[1;32mIn[1], line 22\u001b[0m\n\u001b[0;32m     19\u001b[0m repeat_shape(demo_1)\n\u001b[0;32m     21\u001b[0m \u001b[38;5;66;03m# Make sure to close the turtle graphics window\u001b[39;00m\n\u001b[1;32m---> 22\u001b[0m \u001b[43mturtle\u001b[49m\u001b[38;5;241;43m.\u001b[39;49m\u001b[43mdone\u001b[49m\u001b[43m(\u001b[49m\u001b[43m)\u001b[49m\n",
      "File \u001b[1;32m<string>:8\u001b[0m, in \u001b[0;36mmainloop\u001b[1;34m()\u001b[0m\n",
      "File \u001b[1;32mC:\\Program Files\\Python312\\Lib\\turtle.py:803\u001b[0m, in \u001b[0;36mTurtleScreenBase.mainloop\u001b[1;34m(self)\u001b[0m\n\u001b[0;32m    790\u001b[0m \u001b[38;5;28;01mdef\u001b[39;00m \u001b[38;5;21mmainloop\u001b[39m(\u001b[38;5;28mself\u001b[39m):\n\u001b[0;32m    791\u001b[0m \u001b[38;5;250m    \u001b[39m\u001b[38;5;124;03m\"\"\"Starts event loop - calling Tkinter's mainloop function.\u001b[39;00m\n\u001b[0;32m    792\u001b[0m \n\u001b[0;32m    793\u001b[0m \u001b[38;5;124;03m    No argument.\u001b[39;00m\n\u001b[1;32m   (...)\u001b[0m\n\u001b[0;32m    801\u001b[0m \n\u001b[0;32m    802\u001b[0m \u001b[38;5;124;03m    \"\"\"\u001b[39;00m\n\u001b[1;32m--> 803\u001b[0m     \u001b[38;5;28;43mself\u001b[39;49m\u001b[38;5;241;43m.\u001b[39;49m\u001b[43mcv\u001b[49m\u001b[38;5;241;43m.\u001b[39;49m\u001b[43mtk\u001b[49m\u001b[38;5;241;43m.\u001b[39;49m\u001b[43mmainloop\u001b[49m\u001b[43m(\u001b[49m\u001b[43m)\u001b[49m\n",
      "\u001b[1;31mKeyboardInterrupt\u001b[0m: "
     ]
    }
   ],
   "source": [
    "import turtle\n",
    "\n",
    "def repeat_shape(turtle_obj):\n",
    "    for _ in range(15):\n",
    "        turtle_obj.forward(50)\n",
    "        turtle_obj.left(90)\n",
    "        turtle_obj.forward(50)\n",
    "        turtle_obj.left(90)\n",
    "        turtle_obj.forward(50)\n",
    "        turtle_obj.left(90)\n",
    "        turtle_obj.forward(50)\n",
    "        turtle_obj.left(90)\n",
    "    turtle_obj.left(30)\n",
    "\n",
    "# Instantiate the Turtle object\n",
    "demo_1 = turtle.Turtle()\n",
    "\n",
    "# Call the function and pass the Turtle object as an argument\n",
    "repeat_shape(demo_1)\n",
    "\n",
    "# Make sure to close the turtle graphics window\n",
    "turtle.done()"
   ]
  },
  {
   "cell_type": "code",
   "execution_count": null,
   "id": "0ab29c5e-308c-49c9-932c-a0da49d321b8",
   "metadata": {},
   "outputs": [],
   "source": [
    "import turtle\n",
    "\n",
    "def repeat_shape(turtle_obj):\n",
    "    for _ in range(15):\n",
    "        turtle_obj.forward(50)\n",
    "        turtle_obj.left(90)\n",
    "        turtle_obj.forward(50)\n",
    "        turtle_obj.left(90)\n",
    "        turtle_obj.forward(50)\n",
    "        turtle_obj.left(90)\n",
    "        turtle_obj.forward(50)\n",
    "        turtle_obj.left(90)\n",
    "        turtle_obj.left(30)\n",
    "\n",
    "# Instantiate the Turtle object\n",
    "demo_1 = turtle.Turtle()\n",
    "\n",
    "# Call the function and pass the Turtle object as an argument\n",
    "repeat_shape(demo_1)\n",
    "\n",
    "# Make sure to close the turtle graphics window\n",
    "turtle.done()"
   ]
  },
  {
   "cell_type": "code",
   "execution_count": null,
   "id": "d1b09bcc-c7f0-486b-b8cb-392dbc976c3b",
   "metadata": {},
   "outputs": [],
   "source": []
  },
  {
   "cell_type": "code",
   "execution_count": null,
   "id": "bf081e52-28c2-489e-966b-ecfac44251c8",
   "metadata": {},
   "outputs": [],
   "source": []
  },
  {
   "cell_type": "code",
   "execution_count": null,
   "id": "10cafc10-0f0f-4af6-af66-73609780bc7d",
   "metadata": {},
   "outputs": [],
   "source": []
  }
 ],
 "metadata": {
  "kernelspec": {
   "display_name": "Python 3 (ipykernel)",
   "language": "python",
   "name": "python3"
  },
  "language_info": {
   "codemirror_mode": {
    "name": "ipython",
    "version": 3
   },
   "file_extension": ".py",
   "mimetype": "text/x-python",
   "name": "python",
   "nbconvert_exporter": "python",
   "pygments_lexer": "ipython3",
   "version": "3.12.3"
  }
 },
 "nbformat": 4,
 "nbformat_minor": 5
}
