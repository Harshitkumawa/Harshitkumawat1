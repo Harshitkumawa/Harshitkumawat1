{
 "cells": [
  {
   "cell_type": "code",
   "execution_count": 6,
   "id": "a8f9650b-28b8-494b-8b41-12dabc9ce964",
   "metadata": {},
   "outputs": [
    {
     "name": "stdin",
     "output_type": "stream",
     "text": [
      " 4\n",
      " 5\n"
     ]
    },
    {
     "name": "stdout",
     "output_type": "stream",
     "text": [
      "1\n",
      "2\n"
     ]
    }
   ],
   "source": [
    "# Nested if else construct\n",
    "n=int(input())\n",
    "m=int(input())\n",
    "if n%2==0:\n",
    "    print(\"1\")\n",
    "    if m%2==0:\n",
    "        print(\"1\")\n",
    "    else:\n",
    "        print(\"2\")\n",
    "else:\n",
    "     print(\"3\")\n"
   ]
  },
  {
   "cell_type": "code",
   "execution_count": null,
   "id": "9f3610c9-1936-43f1-8cf7-7a432d718ece",
   "metadata": {},
   "outputs": [],
   "source": [
    "and\n",
    "or\n",
    "not"
   ]
  },
  {
   "cell_type": "code",
   "execution_count": 14,
   "id": "a11a0a64-adc7-4e1d-8664-8b59d760399d",
   "metadata": {},
   "outputs": [
    {
     "ename": "IndentationError",
     "evalue": "expected an indented block after 'else' statement on line 7 (1524110784.py, line 8)",
     "output_type": "error",
     "traceback": [
      "\u001b[1;36m  Cell \u001b[1;32mIn[14], line 8\u001b[1;36m\u001b[0m\n\u001b[1;33m    print(\" \")\u001b[0m\n\u001b[1;37m    ^\u001b[0m\n\u001b[1;31mIndentationError\u001b[0m\u001b[1;31m:\u001b[0m expected an indented block after 'else' statement on line 7\n"
     ]
    }
   ],
   "source": [
    "#Nested if else construct\n",
    "n=str(input())\n",
    "a=str(input())\n",
    "if n==netflix:\n",
    "    print(\"Horror\")\n",
    "    print(\"thrilled\")\n",
    "else:\n",
    "print(\" \")\n",
    "       if a==amazon prime\n",
    "        print(\"comedy\")\n",
    "           print(\"humar\")\n",
    "           else:\n",
    "           print(\" \")\n"
   ]
  },
  {
   "cell_type": "code",
   "execution_count": 28,
   "id": "5acb9cf6-d715-46f2-8188-fbbe3dcae7c0",
   "metadata": {},
   "outputs": [
    {
     "name": "stdin",
     "output_type": "stream",
     "text": [
      " 4\n"
     ]
    },
    {
     "name": "stdout",
     "output_type": "stream",
     "text": [
      "yellow\n"
     ]
    }
   ],
   "source": [
    "n=int(input())\n",
    "if(n>10): \n",
    " print(\"RED\")\n",
    "elif(n>=5):\n",
    " print(\"Green\")\n",
    "elif(n>0):\n",
    " print(\"yellow\")"
   ]
  },
  {
   "cell_type": "code",
   "execution_count": 26,
   "id": "9d3c9986-c0e6-417a-b8ba-93c0ed01ba95",
   "metadata": {},
   "outputs": [
    {
     "name": "stdin",
     "output_type": "stream",
     "text": [
      " 11\n"
     ]
    },
    {
     "name": "stdout",
     "output_type": "stream",
     "text": [
      "Green\n"
     ]
    }
   ],
   "source": [
    "n=int(input())\n",
    "if(n>=5): \n",
    " print(\"Green\")\n",
    "elif(n>10): \n",
    " print(\"RED\")\n",
    "elif(n>0):\n",
    " print(\"yellow\")"
   ]
  },
  {
   "cell_type": "code",
   "execution_count": 47,
   "id": "42ce46d5-23e4-455a-b542-1a911b075a1a",
   "metadata": {},
   "outputs": [
    {
     "ename": "IndentationError",
     "evalue": "unindent does not match any outer indentation level (<string>, line 8)",
     "output_type": "error",
     "traceback": [
      "\u001b[1;36m  File \u001b[1;32m<string>:8\u001b[1;36m\u001b[0m\n\u001b[1;33m    i=i+1\u001b[0m\n\u001b[1;37m         ^\u001b[0m\n\u001b[1;31mIndentationError\u001b[0m\u001b[1;31m:\u001b[0m unindent does not match any outer indentation level\n"
     ]
    }
   ],
   "source": [
    "up = input(\"Enter your password : \")\n",
    "i=0\n",
    "while i<len(up) :\n",
    "    if (up[i].isdigit()) :\n",
    "        print(\"Index : \",i,\" Value : \",up[i])\n",
    "        break\n",
    "    print(\"Index : \",i,\" Value : \",up[i])\n",
    "    i=i+1"
   ]
  },
  {
   "cell_type": "code",
   "execution_count": null,
   "id": "59fc7c0e-3231-44fa-b458-01743018594f",
   "metadata": {},
   "outputs": [],
   "source": [
    "#convert dollar into rupees\n",
    "d=float(input())\n",
    "conversion_rate=83.25\n",
    "c=d*conversion_rate\n",
    "print(\"c\")\n"
   ]
  },
  {
   "cell_type": "code",
   "execution_count": null,
   "id": "53b3bffc-44d9-4ee8-a6f9-7b54c47d5761",
   "metadata": {},
   "outputs": [],
   "source": [
    "number = int(input(\"Enter\"))\n",
    "remainder = 0\n",
    "i=0\n",
    "even_sum=0\n",
    "odd_sum=0\n",
    "while (i<10) : \n",
    "    remainder = number%10 \n",
    "    number = (number-remainder) / 10\n",
    "    if (remainder%2==0) : \n",
    "        even_sum = even_sum + remainder\n",
    "    else :\n",
    "        odd_sum = odd_sum + remainder\n",
    "    i = i + 1\n",
    "final_sum = even_sum + odd_sum \n",
    "print(int(odd_sum),int(even_sum),int(final_sum))"
   ]
  },
  {
   "cell_type": "code",
   "execution_count": null,
   "id": "b3f43d29-3d45-4472-a71b-4b654025f0ff",
   "metadata": {},
   "outputs": [],
   "source": []
  }
 ],
 "metadata": {
  "kernelspec": {
   "display_name": "Python 3 (ipykernel)",
   "language": "python",
   "name": "python3"
  },
  "language_info": {
   "codemirror_mode": {
    "name": "ipython",
    "version": 3
   },
   "file_extension": ".py",
   "mimetype": "text/x-python",
   "name": "python",
   "nbconvert_exporter": "python",
   "pygments_lexer": "ipython3",
   "version": "3.12.2"
  }
 },
 "nbformat": 4,
 "nbformat_minor": 5
}
