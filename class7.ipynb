{
 "cells": [
  {
   "cell_type": "code",
   "execution_count": 4,
   "id": "defbed7e-bbca-4e46-befb-710995742af7",
   "metadata": {},
   "outputs": [
    {
     "data": {
      "text/plain": [
       "610"
      ]
     },
     "execution_count": 4,
     "metadata": {},
     "output_type": "execute_result"
    }
   ],
   "source": [
    "def fabo(n):\n",
    "    if n<=2:\n",
    "        return 1\n",
    "    else:\n",
    "        return fabo(n-2)+fabo(n-1)\n",
    "fabo(15)     "
   ]
  },
  {
   "cell_type": "code",
   "execution_count": 5,
   "id": "1d8a36f2-2ed2-4f93-be0e-032bf6bbf266",
   "metadata": {},
   "outputs": [
    {
     "name": "stdout",
     "output_type": "stream",
     "text": [
      "120\n"
     ]
    }
   ],
   "source": [
    "n=5\n",
    "def fact(n):\n",
    "    total=1\n",
    "    for i in range(1,n+1):\n",
    "        total=total*i\n",
    "    return total\n",
    "print(fact(5))"
   ]
  },
  {
   "cell_type": "code",
   "execution_count": 9,
   "id": "b2828550-c3c4-4ba4-a89f-505370983351",
   "metadata": {},
   "outputs": [
    {
     "name": "stdout",
     "output_type": "stream",
     "text": [
      "43466557686937456435688527675040625802564660517371780402481729089536555417949051890403879840079255169295922593080322634775209689623239873322471161642996440906533187938298969649928516003704476137795166849228875\n",
      "0.0\n"
     ]
    }
   ],
   "source": [
    "import time\n",
    "begin=time.time()\n",
    "memory={0:0,1:1}\n",
    "def fin_update(n):\n",
    "    if n not in memory:\n",
    "        memory[n]=fin_update(n-1)+fin_update(n-2)\n",
    "    return memory[n]\n",
    "print(fin_update(1000))\n",
    "end=time.time()\n",
    "total=end-begin\n",
    "print(total)"
   ]
  },
  {
   "cell_type": "code",
   "execution_count": 11,
   "id": "5fd20d4c-07ed-4cc7-ad7a-31a7020d3282",
   "metadata": {},
   "outputs": [
    {
     "name": "stdin",
     "output_type": "stream",
     "text": [
      "base : 2\n",
      "Exponent : 3\n"
     ]
    },
    {
     "ename": "KeyError",
     "evalue": "2",
     "output_type": "error",
     "traceback": [
      "\u001b[1;31m---------------------------------------------------------------------------\u001b[0m",
      "\u001b[1;31mKeyError\u001b[0m                                  Traceback (most recent call last)",
      "Cell \u001b[1;32mIn[11], line 8\u001b[0m\n\u001b[0;32m      6\u001b[0m         memory[n] \u001b[38;5;241m=\u001b[39m n \u001b[38;5;241m*\u001b[39m fin_update(n,m\u001b[38;5;241m-\u001b[39m\u001b[38;5;241m1\u001b[39m)\n\u001b[0;32m      7\u001b[0m     \u001b[38;5;28;01mreturn\u001b[39;00m memory[n]\n\u001b[1;32m----> 8\u001b[0m \u001b[38;5;28mprint\u001b[39m(\u001b[43mfin_update\u001b[49m\u001b[43m(\u001b[49m\u001b[43mn\u001b[49m\u001b[43m,\u001b[49m\u001b[43mm\u001b[49m\u001b[43m)\u001b[49m)\n",
      "Cell \u001b[1;32mIn[11], line 6\u001b[0m, in \u001b[0;36mfin_update\u001b[1;34m(n, m)\u001b[0m\n\u001b[0;32m      4\u001b[0m \u001b[38;5;28;01mdef\u001b[39;00m \u001b[38;5;21mfin_update\u001b[39m(n,m):\n\u001b[0;32m      5\u001b[0m     \u001b[38;5;28;01mif\u001b[39;00m n \u001b[38;5;129;01mand\u001b[39;00m m \u001b[38;5;129;01mnot\u001b[39;00m \u001b[38;5;129;01min\u001b[39;00m memory:\n\u001b[1;32m----> 6\u001b[0m         memory[n] \u001b[38;5;241m=\u001b[39m n \u001b[38;5;241m*\u001b[39m \u001b[43mfin_update\u001b[49m\u001b[43m(\u001b[49m\u001b[43mn\u001b[49m\u001b[43m,\u001b[49m\u001b[43mm\u001b[49m\u001b[38;5;241;43m-\u001b[39;49m\u001b[38;5;241;43m1\u001b[39;49m\u001b[43m)\u001b[49m\n\u001b[0;32m      7\u001b[0m     \u001b[38;5;28;01mreturn\u001b[39;00m memory[n]\n",
      "Cell \u001b[1;32mIn[11], line 6\u001b[0m, in \u001b[0;36mfin_update\u001b[1;34m(n, m)\u001b[0m\n\u001b[0;32m      4\u001b[0m \u001b[38;5;28;01mdef\u001b[39;00m \u001b[38;5;21mfin_update\u001b[39m(n,m):\n\u001b[0;32m      5\u001b[0m     \u001b[38;5;28;01mif\u001b[39;00m n \u001b[38;5;129;01mand\u001b[39;00m m \u001b[38;5;129;01mnot\u001b[39;00m \u001b[38;5;129;01min\u001b[39;00m memory:\n\u001b[1;32m----> 6\u001b[0m         memory[n] \u001b[38;5;241m=\u001b[39m n \u001b[38;5;241m*\u001b[39m \u001b[43mfin_update\u001b[49m\u001b[43m(\u001b[49m\u001b[43mn\u001b[49m\u001b[43m,\u001b[49m\u001b[43mm\u001b[49m\u001b[38;5;241;43m-\u001b[39;49m\u001b[38;5;241;43m1\u001b[39;49m\u001b[43m)\u001b[49m\n\u001b[0;32m      7\u001b[0m     \u001b[38;5;28;01mreturn\u001b[39;00m memory[n]\n",
      "Cell \u001b[1;32mIn[11], line 7\u001b[0m, in \u001b[0;36mfin_update\u001b[1;34m(n, m)\u001b[0m\n\u001b[0;32m      5\u001b[0m \u001b[38;5;28;01mif\u001b[39;00m n \u001b[38;5;129;01mand\u001b[39;00m m \u001b[38;5;129;01mnot\u001b[39;00m \u001b[38;5;129;01min\u001b[39;00m memory:\n\u001b[0;32m      6\u001b[0m     memory[n] \u001b[38;5;241m=\u001b[39m n \u001b[38;5;241m*\u001b[39m fin_update(n,m\u001b[38;5;241m-\u001b[39m\u001b[38;5;241m1\u001b[39m)\n\u001b[1;32m----> 7\u001b[0m \u001b[38;5;28;01mreturn\u001b[39;00m \u001b[43mmemory\u001b[49m\u001b[43m[\u001b[49m\u001b[43mn\u001b[49m\u001b[43m]\u001b[49m\n",
      "\u001b[1;31mKeyError\u001b[0m: 2"
     ]
    }
   ],
   "source": [
    "n=int(input(\"base :\"))\n",
    "m=int(input(\"Exponent :\"))\n",
    "memory={0:0,1:1}\n",
    "def fin_update(n,m):\n",
    "    if n and m not in memory:\n",
    "        memory[n] = n * fin_update(n,m-1)\n",
    "    return memory[n]\n",
    "print(fin_update(n,m))"
   ]
  },
  {
   "cell_type": "code",
   "execution_count": 6,
   "id": "82f920b5-b0ef-4f1d-9b04-e51357e13d44",
   "metadata": {},
   "outputs": [
    {
     "ename": "NameError",
     "evalue": "name 'date' is not defined",
     "output_type": "error",
     "traceback": [
      "\u001b[1;31m---------------------------------------------------------------------------\u001b[0m",
      "\u001b[1;31mNameError\u001b[0m                                 Traceback (most recent call last)",
      "Cell \u001b[1;32mIn[6], line 2\u001b[0m\n\u001b[0;32m      1\u001b[0m \u001b[38;5;28;01mfrom\u001b[39;00m \u001b[38;5;21;01mdatetime\u001b[39;00m \u001b[38;5;28;01mimport\u001b[39;00m datetime\n\u001b[1;32m----> 2\u001b[0m \u001b[43mdate\u001b[49m\u001b[38;5;241m.\u001b[39mtoday()\n",
      "\u001b[1;31mNameError\u001b[0m: name 'date' is not defined"
     ]
    }
   ],
   "source": [
    "from datetime import datetime\n",
    "date.today()"
   ]
  },
  {
   "cell_type": "code",
   "execution_count": 7,
   "id": "b51404ce-c1af-4c9a-8466-83b5a17b9604",
   "metadata": {},
   "outputs": [
    {
     "name": "stdout",
     "output_type": "stream",
     "text": [
      "Today's date is: 2024-05-02\n"
     ]
    }
   ],
   "source": [
    "from datetime import date\n",
    "\n",
    "today = date.today()\n",
    "print(\"Today's date is:\", today)"
   ]
  },
  {
   "cell_type": "code",
   "execution_count": null,
   "id": "9af0e9d2-0841-41ac-a7f5-ee34c3992b52",
   "metadata": {},
   "outputs": [],
   "source": [
    "from datetime import date\n",
    "class Individual():\n",
    "    def __init__(self,name):\n",
    "        self.name=name\n",
    "        self.birthday= None\n",
    "        self.age= None\n",
    "    def get_name(self):\n",
    "        return name\n",
    "    def add_birthday(self,birthday):\n",
    "        self.birthday=birthday\n",
    "        return self.birthday\n",
    "    def get_age(self,today):\n",
    "        self.today = date.today()\n",
    "        return self.today-self.birthday\n",
    "a=Individual('harshit')\n",
    "a.add_birthday(2005)\n",
    "print(a.get_age(23))\n",
    "\n",
    "class AU_Employee(Individual):\n",
    "    def __init__(self,id):\n",
    "        self.id=id\n",
    "    def get_unique_id(self):\n",
    "        return self.id\n",
    "\n",
    "b=AU_Employee('123')\n",
    "print(b.get_unique_id())\n",
    "\n",
    "class Faculty(AU_Employee):\n",
    "    def __init__(self):\n",
    "        super().__init__(id)\n",
    "\n",
    "c=Faculty()\n",
    "c.get_unique_id()\n",
    "print(c.get_unique_id())\n",
    "\n",
    "\n",
    "\n",
    "\n"
   ]
  }
 ],
 "metadata": {
  "kernelspec": {
   "display_name": "Python 3 (ipykernel)",
   "language": "python",
   "name": "python3"
  },
  "language_info": {
   "codemirror_mode": {
    "name": "ipython",
    "version": 3
   },
   "file_extension": ".py",
   "mimetype": "text/x-python",
   "name": "python",
   "nbconvert_exporter": "python",
   "pygments_lexer": "ipython3",
   "version": "3.12.3"
  }
 },
 "nbformat": 4,
 "nbformat_minor": 5
}
