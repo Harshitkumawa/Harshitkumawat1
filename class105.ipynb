{
 "cells": [
  {
   "cell_type": "code",
   "execution_count": 3,
   "id": "fe315313-5dcd-41eb-9633-b676e590a5d8",
   "metadata": {},
   "outputs": [
    {
     "ename": "SyntaxError",
     "evalue": "invalid syntax (1072645289.py, line 2)",
     "output_type": "error",
     "traceback": [
      "\u001b[1;36m  Cell \u001b[1;32mIn[3], line 2\u001b[1;36m\u001b[0m\n\u001b[1;33m    for(s in a):\u001b[0m\n\u001b[1;37m               ^\u001b[0m\n\u001b[1;31mSyntaxError\u001b[0m\u001b[1;31m:\u001b[0m invalid syntax\n"
     ]
    }
   ],
   "source": [
    "a='string'\n",
    "for(s in a):\n",
    "    print(s)"
   ]
  },
  {
   "cell_type": "code",
   "execution_count": 5,
   "id": "61de5a11-f434-46be-8281-433b09af25b4",
   "metadata": {},
   "outputs": [
    {
     "ename": "SyntaxError",
     "evalue": "incomplete input (3281729858.py, line 3)",
     "output_type": "error",
     "traceback": [
      "\u001b[1;36m  Cell \u001b[1;32mIn[5], line 3\u001b[1;36m\u001b[0m\n\u001b[1;33m    for element in range (n):\u001b[0m\n\u001b[1;37m                             ^\u001b[0m\n\u001b[1;31mSyntaxError\u001b[0m\u001b[1;31m:\u001b[0m incomplete input\n"
     ]
    }
   ],
   "source": [
    "n=1000000000\n",
    "i=0\n",
    "for element in range (n):"
   ]
  },
  {
   "cell_type": "code",
   "execution_count": 8,
   "id": "ad4ef1d4-89fd-4d1b-a299-462c24e282d9",
   "metadata": {},
   "outputs": [],
   "source": [
    "n=1000000000\n",
    "i=0\n",
    "while i<n:\n",
    "\n",
    "  i=i+1"
   ]
  },
  {
   "cell_type": "code",
   "execution_count": 26,
   "id": "8a123bb8-097a-47d0-93a1-d7629792d970",
   "metadata": {},
   "outputs": [
    {
     "name": "stdout",
     "output_type": "stream",
     "text": [
      "while_loop 56.62243970006239\n",
      "for_loop 41.82839710009284\n",
      "sum_n 1.600012183189392e-06\n"
     ]
    }
   ],
   "source": [
    "#implementation of python construct while_loop\n",
    "from timeit import timeit\n",
    "n=1000000000\n",
    "def while_loop():\n",
    "    i=0\n",
    "    count=0\n",
    "    while i<n:\n",
    "       count=count+i\n",
    "       i=i+1\n",
    "    return\n",
    "print(\"while_loop\",timeit(while_loop,number=1))\n",
    "\n",
    "def for_loop():\n",
    "    count=0\n",
    "    for i in range (n):\n",
    "        count=count+i\n",
    "        pass\n",
    "\n",
    "    \n",
    "    return\n",
    "    \n",
    "print(\"for_loop\",timeit(for_loop,number=1))  \n",
    "\n",
    "def sum_n():\n",
    "\n",
    "    return(n*(n+1))//2\n",
    "print(\"sum_n\",timeit(sum_n,number=1))  \n"
   ]
  },
  {
   "cell_type": "code",
   "execution_count": 6,
   "id": "c026a018-5f4d-49e7-b445-439df2566651",
   "metadata": {},
   "outputs": [
    {
     "name": "stdin",
     "output_type": "stream",
     "text": [
      " 3\n"
     ]
    },
    {
     "name": "stdout",
     "output_type": "stream",
     "text": [
      "* \n",
      "* * \n",
      "* * * \n"
     ]
    }
   ],
   "source": [
    "n=int(input())\n",
    "i=1\n",
    "while (i<=n):\n",
    "    j=1\n",
    "    while (j<=i):\n",
    "        print('*' ,  end=' ')\n",
    "        j=j+1\n",
    "    print()\n",
    "    i=i+1"
   ]
  },
  {
   "cell_type": "code",
   "execution_count": 31,
   "id": "dc42338c-52e0-42df-a7b6-7ccb83e5464e",
   "metadata": {},
   "outputs": [
    {
     "name": "stdin",
     "output_type": "stream",
     "text": [
      " 3\n"
     ]
    },
    {
     "name": "stdout",
     "output_type": "stream",
     "text": [
      "\n"
     ]
    }
   ],
   "source": [
    "n=int(input())\n",
    "i=1\n",
    "for i in range(i<=n):\n",
    "      j=1\n",
    "      for j in range(j<=i):\n",
    "          print('*', end=' ')\n",
    "          \n",
    "      print()\n",
    "      "
   ]
  },
  {
   "cell_type": "code",
   "execution_count": 7,
   "id": "0ac91794-3f40-4157-bb98-df3832313132",
   "metadata": {},
   "outputs": [
    {
     "ename": "SyntaxError",
     "evalue": "invalid syntax (2110436155.py, line 29)",
     "output_type": "error",
     "traceback": [
      "\u001b[1;36m  Cell \u001b[1;32mIn[7], line 29\u001b[1;36m\u001b[0m\n\u001b[1;33m    elif(POE==\"principal of engireeing\"):\u001b[0m\n\u001b[1;37m    ^\u001b[0m\n\u001b[1;31mSyntaxError\u001b[0m\u001b[1;31m:\u001b[0m invalid syntax\n"
     ]
    }
   ],
   "source": [
    "\n",
    "c=input(\"Course lead name:\")\n",
    "fn=input(\"First Name:\")\n",
    "ln=input(\"Last Name:\")\n",
    "ip=input(\"Issue and Problems :\")\n",
    "pbl=input(\"Project based problem:\")\n",
    "e=input(\"Email:\")\n",
    "\n",
    "c=input(\"contact:\")\n",
    "s=input(\"semester:\")\n",
    "cn=input(\"course name\")\n",
    "cc=input(\"course code:\")\n",
    "cln=input(\"Course lead name:\")\n",
    "\n",
    "c=input(\"Contact No:\")\n",
    "s=input(\"Semester:\")\n",
    "cn=input(\"Course Name\")\n",
    "\n",
    "i=input(\"Would you like to have any another course with same course lead\")\n",
    "h=input(\"Overall rating of the course\")\n",
    "g=input(\"We would like to hear if you have any comments/suggestions about the course and class.\")\n",
    "response = input(\"Does the instructor come punctually on time? (always/mostly/rarely/never): \")\n",
    "punctuality_level = response.lower()\n",
    "print(\"Punctuality level of the instructor:\", punctuality_level)\n",
    "DT = input (\"Enter the course :\")\n",
    "POE = input (\"Enter the course :\")\n",
    "FOP = input (\"Enter the course :\")\n",
    "ITC = input (\"Enter the course :\")\n",
    "if(DT==\"design thinking\"):\n",
    "    elif(POE==\"principal of engireeing\"):\n",
    "        elif(FOP==\"fandamentel of programing\"):\n",
    "            elif(ITC==\"introduction to computing\"):\n",
    "                else:\n",
    "pace=int(input(\"The pace at which material was covered was:\\nEnter '5' if too fast\\nEnter '4' if slightly fast\\nEnter '3' if about right\\nEnter '2' if lightly slow\\nEnter '1' if too slow\\n Your choice : \"))\n",
    "material=int(input(\"The course materials helped me understand the subject matter:\\nEnter '5' if you strongly agree\\nEnter '4' if you agree\\nEnter '3' if neutral\\nEnter '2' if disagree\\nEnter '1' if strongly disagree\\n Your choice : \"))\n",
    "skills=int(input(\"In this course, I learned skills or content that I consider valuable:\\nEnter '5' if strongly agree\\nEnter '4' if agree\\nEnter '3' if neutral\\nEnter '2' if disagree\\nEnter '1' if strongly disagree\\n Your choice : \"))\n",
    "knowledge=int(input(\"What would you say about the knowledge of the course lead:\\nEnter '5' if excellent\\nEnter '4' if good\\nEnter '3' if average\\nEnter '2' if bad\\nEnter '1' if very bad\\n Your choice : \"))\n",
    "overall=pace+material+skills+knowledge                  "
   ]
  },
  {
   "cell_type": "code",
   "execution_count": 8,
   "id": "75d7e7a3-aec1-4b5f-8290-66ab1c86fbdb",
   "metadata": {},
   "outputs": [
    {
     "name": "stdin",
     "output_type": "stream",
     "text": [
      "First Name: h\n",
      "Last Name: f\n",
      "Issue and Problems : f\n",
      "Project based problem: fgt\n",
      "Email: ggfdbb\n",
      "contact: bbbggb\n",
      "semester: bgb\n",
      "course name gfgfggdg\n",
      "course code: bfggg\n",
      "Course lead name: ded\n",
      "Would you like to have any another course with same course lead dfde\n",
      "Overall rating of the course dff\n",
      "We would like to hear if you have any comments/suggestions about the course and class. \n",
      "Does the instructor come punctually on time? (always/mostly/rarely/never):  ffff\n",
      "The pace at which material was covered was:\n",
      " '5' if too fast\n",
      " '4' if slightly fast\n",
      " '3' if about right\n",
      " '2' if lightly slow\n",
      " '1' if too slow\n",
      " Your choice :  f\n"
     ]
    },
    {
     "ename": "ValueError",
     "evalue": "invalid literal for int() with base 10: 'f'",
     "output_type": "error",
     "traceback": [
      "\u001b[1;31m---------------------------------------------------------------------------\u001b[0m",
      "\u001b[1;31mValueError\u001b[0m                                Traceback (most recent call last)",
      "Cell \u001b[1;32mIn[8], line 18\u001b[0m\n\u001b[0;32m     16\u001b[0m response \u001b[38;5;241m=\u001b[39m \u001b[38;5;28minput\u001b[39m(\u001b[38;5;124m\"\u001b[39m\u001b[38;5;124mDoes the instructor come punctually on time? (always/mostly/rarely/never): \u001b[39m\u001b[38;5;124m\"\u001b[39m)\n\u001b[0;32m     17\u001b[0m punctuality_level \u001b[38;5;241m=\u001b[39m response\u001b[38;5;241m.\u001b[39mlower()\n\u001b[1;32m---> 18\u001b[0m pace\u001b[38;5;241m=\u001b[39m\u001b[38;5;28;43mint\u001b[39;49m\u001b[43m(\u001b[49m\u001b[38;5;28;43minput\u001b[39;49m\u001b[43m(\u001b[49m\u001b[38;5;124;43m\"\u001b[39;49m\u001b[38;5;124;43mThe pace at which material was covered was:\u001b[39;49m\u001b[38;5;130;43;01m\\n\u001b[39;49;00m\u001b[38;5;124;43m \u001b[39;49m\u001b[38;5;124;43m'\u001b[39;49m\u001b[38;5;124;43m5\u001b[39;49m\u001b[38;5;124;43m'\u001b[39;49m\u001b[38;5;124;43m if too fast\u001b[39;49m\u001b[38;5;130;43;01m\\n\u001b[39;49;00m\u001b[38;5;124;43m \u001b[39;49m\u001b[38;5;124;43m'\u001b[39;49m\u001b[38;5;124;43m4\u001b[39;49m\u001b[38;5;124;43m'\u001b[39;49m\u001b[38;5;124;43m if slightly fast\u001b[39;49m\u001b[38;5;130;43;01m\\n\u001b[39;49;00m\u001b[38;5;124;43m \u001b[39;49m\u001b[38;5;124;43m'\u001b[39;49m\u001b[38;5;124;43m3\u001b[39;49m\u001b[38;5;124;43m'\u001b[39;49m\u001b[38;5;124;43m if about right\u001b[39;49m\u001b[38;5;130;43;01m\\n\u001b[39;49;00m\u001b[38;5;124;43m \u001b[39;49m\u001b[38;5;124;43m'\u001b[39;49m\u001b[38;5;124;43m2\u001b[39;49m\u001b[38;5;124;43m'\u001b[39;49m\u001b[38;5;124;43m if lightly slow\u001b[39;49m\u001b[38;5;130;43;01m\\n\u001b[39;49;00m\u001b[38;5;124;43m \u001b[39;49m\u001b[38;5;124;43m'\u001b[39;49m\u001b[38;5;124;43m1\u001b[39;49m\u001b[38;5;124;43m'\u001b[39;49m\u001b[38;5;124;43m if too slow\u001b[39;49m\u001b[38;5;130;43;01m\\n\u001b[39;49;00m\u001b[38;5;124;43m Your choice : \u001b[39;49m\u001b[38;5;124;43m\"\u001b[39;49m\u001b[43m)\u001b[49m\u001b[43m)\u001b[49m\n\u001b[0;32m     19\u001b[0m material\u001b[38;5;241m=\u001b[39m\u001b[38;5;28mint\u001b[39m(\u001b[38;5;28minput\u001b[39m(\u001b[38;5;124m\"\u001b[39m\u001b[38;5;124mThe course materials helped me understand the subject matter:\u001b[39m\u001b[38;5;130;01m\\n\u001b[39;00m\u001b[38;5;124m \u001b[39m\u001b[38;5;124m'\u001b[39m\u001b[38;5;124m5\u001b[39m\u001b[38;5;124m'\u001b[39m\u001b[38;5;124m if you strongly agree\u001b[39m\u001b[38;5;130;01m\\n\u001b[39;00m\u001b[38;5;124m \u001b[39m\u001b[38;5;124m'\u001b[39m\u001b[38;5;124m4\u001b[39m\u001b[38;5;124m'\u001b[39m\u001b[38;5;124m if you agree\u001b[39m\u001b[38;5;130;01m\\n\u001b[39;00m\u001b[38;5;124m \u001b[39m\u001b[38;5;124m'\u001b[39m\u001b[38;5;124m3\u001b[39m\u001b[38;5;124m'\u001b[39m\u001b[38;5;124m if neutral\u001b[39m\u001b[38;5;130;01m\\n\u001b[39;00m\u001b[38;5;124m \u001b[39m\u001b[38;5;124m'\u001b[39m\u001b[38;5;124m2\u001b[39m\u001b[38;5;124m'\u001b[39m\u001b[38;5;124m if disagree\u001b[39m\u001b[38;5;130;01m\\n\u001b[39;00m\u001b[38;5;124m \u001b[39m\u001b[38;5;124m'\u001b[39m\u001b[38;5;124m1\u001b[39m\u001b[38;5;124m'\u001b[39m\u001b[38;5;124m if strongly disagree\u001b[39m\u001b[38;5;130;01m\\n\u001b[39;00m\u001b[38;5;124m Your choice : \u001b[39m\u001b[38;5;124m\"\u001b[39m))\n\u001b[0;32m     20\u001b[0m skills\u001b[38;5;241m=\u001b[39m\u001b[38;5;28mint\u001b[39m(\u001b[38;5;28minput\u001b[39m(\u001b[38;5;124m\"\u001b[39m\u001b[38;5;124mIn this course, I learned skills or content that I consider valuable:\u001b[39m\u001b[38;5;130;01m\\n\u001b[39;00m\u001b[38;5;124m \u001b[39m\u001b[38;5;124m'\u001b[39m\u001b[38;5;124m5\u001b[39m\u001b[38;5;124m'\u001b[39m\u001b[38;5;124m if strongly agree\u001b[39m\u001b[38;5;130;01m\\n\u001b[39;00m\u001b[38;5;124m \u001b[39m\u001b[38;5;124m'\u001b[39m\u001b[38;5;124m4\u001b[39m\u001b[38;5;124m'\u001b[39m\u001b[38;5;124m if agree\u001b[39m\u001b[38;5;130;01m\\n\u001b[39;00m\u001b[38;5;124m \u001b[39m\u001b[38;5;124m'\u001b[39m\u001b[38;5;124m3\u001b[39m\u001b[38;5;124m'\u001b[39m\u001b[38;5;124m if neutral\u001b[39m\u001b[38;5;130;01m\\n\u001b[39;00m\u001b[38;5;124m \u001b[39m\u001b[38;5;124m'\u001b[39m\u001b[38;5;124m2\u001b[39m\u001b[38;5;124m'\u001b[39m\u001b[38;5;124m if disagree\u001b[39m\u001b[38;5;130;01m\\n\u001b[39;00m\u001b[38;5;124m \u001b[39m\u001b[38;5;124m'\u001b[39m\u001b[38;5;124m1\u001b[39m\u001b[38;5;124m'\u001b[39m\u001b[38;5;124m if strongly disagree\u001b[39m\u001b[38;5;130;01m\\n\u001b[39;00m\u001b[38;5;124m Your choice : \u001b[39m\u001b[38;5;124m\"\u001b[39m))\n",
      "\u001b[1;31mValueError\u001b[0m: invalid literal for int() with base 10: 'f'"
     ]
    }
   ],
   "source": [
    "fn=input(\"First Name:\")\n",
    "ln=input(\"Last Name:\")\n",
    "ip=input(\"Issue and Problems :\")\n",
    "pbl=input(\"Project based problem:\")\n",
    "e=input(\"Email:\")\n",
    "\n",
    "c=input(\"contact:\")\n",
    "s=input(\"semester:\")\n",
    "cn=input(\"course name\")\n",
    "cc=input(\"course code:\")\n",
    "cln=input(\"Course lead name:\")\n",
    "\n",
    "i=input(\"Would you like to have any another course with same course lead\")\n",
    "h=input(\"Overall rating of the course\")\n",
    "g=input(\"We would like to hear if you have any comments/suggestions about the course and class.\")\n",
    "response = input(\"Does the instructor come punctually on time? (always/mostly/rarely/never): \")\n",
    "punctuality_level = response.lower()\n",
    "pace=int(input(\"The pace at which material was covered was:\\n '5' if too fast\\n '4' if slightly fast\\n '3' if about right\\n '2' if lightly slow\\n '1' if too slow\\n Your choice : \"))\n",
    "material=int(input(\"The course materials helped me understand the subject matter:\\n '5' if you strongly agree\\n '4' if you agree\\n '3' if neutral\\n '2' if disagree\\n '1' if strongly disagree\\n Your choice : \"))\n",
    "skills=int(input(\"In this course, I learned skills or content that I consider valuable:\\n '5' if strongly agree\\n '4' if agree\\n '3' if neutral\\n '2' if disagree\\n '1' if strongly disagree\\n Your choice : \"))\n",
    "knowledge=int(input(\"What would you say about the knowledge of the course lead:\\n '5' if excellent\\n '4' if good\\n '3' if average\\n '2' if bad\\n '1' if very bad\\n Your choice : \"))\n",
    "overall=pace+material+skills+knowledge               \n"
   ]
  },
  {
   "cell_type": "code",
   "execution_count": 9,
   "id": "15c16858-edce-48de-ad73-ec58f8093a33",
   "metadata": {},
   "outputs": [
    {
     "name": "stdin",
     "output_type": "stream",
     "text": [
      "First Name: k\n",
      "Last Name: k\n",
      "Issue and Problems : k\n",
      "Project based problem: k\n",
      "Email: k\n",
      "contact: k\n",
      "semester: k\n",
      "course name k\n",
      "course code: k\n",
      "Course lead name: k\n",
      "Would you like to have any another course with same course lead k\n",
      "Overall rating of the course j\n"
     ]
    },
    {
     "ename": "KeyboardInterrupt",
     "evalue": "Interrupted by user",
     "output_type": "error",
     "traceback": [
      "\u001b[1;31m---------------------------------------------------------------------------\u001b[0m",
      "\u001b[1;31mKeyboardInterrupt\u001b[0m                         Traceback (most recent call last)",
      "Cell \u001b[1;32mIn[9], line 15\u001b[0m\n\u001b[0;32m     13\u001b[0m i\u001b[38;5;241m=\u001b[39m\u001b[38;5;28minput\u001b[39m(\u001b[38;5;124m\"\u001b[39m\u001b[38;5;124mWould you like to have any another course with same course lead\u001b[39m\u001b[38;5;124m\"\u001b[39m)\n\u001b[0;32m     14\u001b[0m h\u001b[38;5;241m=\u001b[39m\u001b[38;5;28minput\u001b[39m(\u001b[38;5;124m\"\u001b[39m\u001b[38;5;124mOverall rating of the course\u001b[39m\u001b[38;5;124m\"\u001b[39m)\n\u001b[1;32m---> 15\u001b[0m g\u001b[38;5;241m=\u001b[39m\u001b[38;5;28;43minput\u001b[39;49m\u001b[43m(\u001b[49m\u001b[38;5;124;43m\"\u001b[39;49m\u001b[38;5;124;43mWe would like to hear if you have any comments/suggestions about the course and class.\u001b[39;49m\u001b[38;5;124;43m\"\u001b[39;49m\u001b[43m)\u001b[49m\n\u001b[0;32m     16\u001b[0m response \u001b[38;5;241m=\u001b[39m \u001b[38;5;28minput\u001b[39m(\u001b[38;5;124m\"\u001b[39m\u001b[38;5;124mDoes the instructor come punctually on time? (always/mostly/rarely/never): \u001b[39m\u001b[38;5;124m\"\u001b[39m)\n\u001b[0;32m     17\u001b[0m punctuality_level \u001b[38;5;241m=\u001b[39m response\u001b[38;5;241m.\u001b[39mlower()\n",
      "File \u001b[1;32m~\\AppData\\Roaming\\Python\\Python312\\site-packages\\ipykernel\\kernelbase.py:1282\u001b[0m, in \u001b[0;36mKernel.raw_input\u001b[1;34m(self, prompt)\u001b[0m\n\u001b[0;32m   1280\u001b[0m     msg \u001b[38;5;241m=\u001b[39m \u001b[38;5;124m\"\u001b[39m\u001b[38;5;124mraw_input was called, but this frontend does not support input requests.\u001b[39m\u001b[38;5;124m\"\u001b[39m\n\u001b[0;32m   1281\u001b[0m     \u001b[38;5;28;01mraise\u001b[39;00m StdinNotImplementedError(msg)\n\u001b[1;32m-> 1282\u001b[0m \u001b[38;5;28;01mreturn\u001b[39;00m \u001b[38;5;28;43mself\u001b[39;49m\u001b[38;5;241;43m.\u001b[39;49m\u001b[43m_input_request\u001b[49m\u001b[43m(\u001b[49m\n\u001b[0;32m   1283\u001b[0m \u001b[43m    \u001b[49m\u001b[38;5;28;43mstr\u001b[39;49m\u001b[43m(\u001b[49m\u001b[43mprompt\u001b[49m\u001b[43m)\u001b[49m\u001b[43m,\u001b[49m\n\u001b[0;32m   1284\u001b[0m \u001b[43m    \u001b[49m\u001b[38;5;28;43mself\u001b[39;49m\u001b[38;5;241;43m.\u001b[39;49m\u001b[43m_parent_ident\u001b[49m\u001b[43m[\u001b[49m\u001b[38;5;124;43m\"\u001b[39;49m\u001b[38;5;124;43mshell\u001b[39;49m\u001b[38;5;124;43m\"\u001b[39;49m\u001b[43m]\u001b[49m\u001b[43m,\u001b[49m\n\u001b[0;32m   1285\u001b[0m \u001b[43m    \u001b[49m\u001b[38;5;28;43mself\u001b[39;49m\u001b[38;5;241;43m.\u001b[39;49m\u001b[43mget_parent\u001b[49m\u001b[43m(\u001b[49m\u001b[38;5;124;43m\"\u001b[39;49m\u001b[38;5;124;43mshell\u001b[39;49m\u001b[38;5;124;43m\"\u001b[39;49m\u001b[43m)\u001b[49m\u001b[43m,\u001b[49m\n\u001b[0;32m   1286\u001b[0m \u001b[43m    \u001b[49m\u001b[43mpassword\u001b[49m\u001b[38;5;241;43m=\u001b[39;49m\u001b[38;5;28;43;01mFalse\u001b[39;49;00m\u001b[43m,\u001b[49m\n\u001b[0;32m   1287\u001b[0m \u001b[43m\u001b[49m\u001b[43m)\u001b[49m\n",
      "File \u001b[1;32m~\\AppData\\Roaming\\Python\\Python312\\site-packages\\ipykernel\\kernelbase.py:1325\u001b[0m, in \u001b[0;36mKernel._input_request\u001b[1;34m(self, prompt, ident, parent, password)\u001b[0m\n\u001b[0;32m   1322\u001b[0m \u001b[38;5;28;01mexcept\u001b[39;00m \u001b[38;5;167;01mKeyboardInterrupt\u001b[39;00m:\n\u001b[0;32m   1323\u001b[0m     \u001b[38;5;66;03m# re-raise KeyboardInterrupt, to truncate traceback\u001b[39;00m\n\u001b[0;32m   1324\u001b[0m     msg \u001b[38;5;241m=\u001b[39m \u001b[38;5;124m\"\u001b[39m\u001b[38;5;124mInterrupted by user\u001b[39m\u001b[38;5;124m\"\u001b[39m\n\u001b[1;32m-> 1325\u001b[0m     \u001b[38;5;28;01mraise\u001b[39;00m \u001b[38;5;167;01mKeyboardInterrupt\u001b[39;00m(msg) \u001b[38;5;28;01mfrom\u001b[39;00m \u001b[38;5;28;01mNone\u001b[39;00m\n\u001b[0;32m   1326\u001b[0m \u001b[38;5;28;01mexcept\u001b[39;00m \u001b[38;5;167;01mException\u001b[39;00m:\n\u001b[0;32m   1327\u001b[0m     \u001b[38;5;28mself\u001b[39m\u001b[38;5;241m.\u001b[39mlog\u001b[38;5;241m.\u001b[39mwarning(\u001b[38;5;124m\"\u001b[39m\u001b[38;5;124mInvalid Message:\u001b[39m\u001b[38;5;124m\"\u001b[39m, exc_info\u001b[38;5;241m=\u001b[39m\u001b[38;5;28;01mTrue\u001b[39;00m)\n",
      "\u001b[1;31mKeyboardInterrupt\u001b[0m: Interrupted by user"
     ]
    }
   ],
   "source": [
    "fn=input(\"First Name:\")\n",
    "ln=input(\"Last Name:\")\n",
    "ip=input(\"Issue and Problems :\")\n",
    "pbl=input(\"Project based problem:\")\n",
    "e=input(\"Email:\")\n",
    "\n",
    "c=input(\"contact:\")\n",
    "s=input(\"semester:\")\n",
    "cn=input(\"course name\")\n",
    "cc=input(\"course code:\")\n",
    "cln=input(\"Course lead name:\")\n",
    "\n",
    "i=input(\"Would you like to have any another course with same course lead\")\n",
    "h=input(\"Overall rating of the course\")\n",
    "g=input(\"We would like to hear if you have any comments/suggestions about the course and class.\")\n",
    "response = input(\"Does the instructor come punctually on time? (always/mostly/rarely/never): \")\n",
    "punctuality_level = response.lower()\n",
    "pace=int(input(\"The pace at which material was covered was:\\n '5' if too fast\\n '4' if slightly fast\\n '3' if about right\\n '2' if lightly slow\\n '1' if too slow\\n Your choice : \"))\n",
    "material=int(input(\"The course materials helped me understand the subject matter:\\n '5' if you strongly agree\\n '4' if you agree\\n '3' if neutral\\n '2' if disagree\\n '1' if strongly disagree\\n Your choice : \"))\n",
    "skills=int(input(\"In this course, I learned skills or content that I consider valuable:\\n '5' if strongly agree\\n '4' if agree\\n '3' if neutral\\n '2' if disagree\\n '1' if strongly disagree\\n Your choice : \"))\n",
    "knowledge=int(input(\"What would you say about the knowledge of the course lead:\\n '5' if excellent\\n '4' if good\\n '3' if average\\n '2' if bad\\n '1' if very bad\\n Your choice : \"))\n",
    "overall=pace+material+skills+knowledge               "
   ]
  },
  {
   "cell_type": "code",
   "execution_count": null,
   "id": "9e8b2901-4808-4b18-829a-e85bfaf35e73",
   "metadata": {},
   "outputs": [
    {
     "name": "stdin",
     "output_type": "stream",
     "text": [
      "First Name: g\n",
      "Last Name: g\n",
      "Issue and Problems : g\n",
      "Project based problem: g\n",
      "Email: g\n",
      "contact: g\n",
      "semester: g\n",
      "course name gg\n",
      "course code: gg\n",
      "Course lead name: gg\n",
      "Would you like to have any another course with same course lead gg\n"
     ]
    }
   ],
   "source": [
    "fn=input(\"First Name:\")\n",
    "ln=input(\"Last Name:\")\n",
    "ip=input(\"Issue and Problems :\")\n",
    "pbl=input(\"Project based problem:\")\n",
    "e=input(\"Email:\")\n",
    "\n",
    "c=input(\"contact:\")\n",
    "s=input(\"semester:\")\n",
    "cn=input(\"course name\")\n",
    "cc=input(\"course code:\")\n",
    "cln=input(\"Course lead name:\")\n",
    "\n",
    "i=input(\"Would you like to have any another course with same course lead\")\n",
    "h=input(\"Overall rating of the course:\\n '5' if too good\\n '4' if slightly good\\n '3' if about right\\n '2' if lightly good\\n '1' if bad\\n Your choice : \")\n",
    "g=input(\"We would like to hear if you have any comments/suggestions about the course and class.\")\n",
    "response = input(\"Does the instructor come punctually on time? (always/mostly/rarely/never): \")\n",
    "punctuality_level = response.lower()\n",
    "pace=int(input(\"The pace at which material was covered was:\\n '5' if too fast\\n '4' if slightly fast\\n '3' if about right\\n '2' if lightly slow\\n '1' if too slow\\n Your choice : \"))\n",
    "material=int(input(\"The course materials helped me understand the subject matter:\\n '5' if you strongly agree\\n '4' if you agree\\n '3' if neutral\\n '2' if disagree\\n '1' if strongly disagree\\n Your choice : \"))\n",
    "skills=int(input(\"In this course, I learned skills or content that I consider valuable:\\n '5' if strongly agree\\n '4' if agree\\n '3' if neutral\\n '2' if disagree\\n '1' if strongly disagree\\n Your choice : \"))\n",
    "knowledge=int(input(\"What would you say about the knowledge of the course lead:\\n '5' if excellent\\n '4' if good\\n '3' if average\\n '2' if bad\\n '1' if very bad\\n Your choice : \"))\n",
    "overall=pace+material+skills+knowledge               "
   ]
  },
  {
   "cell_type": "code",
   "execution_count": null,
   "id": "2c49d2c1-ab3a-4513-8f9b-2e1c29650c0b",
   "metadata": {},
   "outputs": [],
   "source": []
  }
 ],
 "metadata": {
  "kernelspec": {
   "display_name": "Python 3 (ipykernel)",
   "language": "python",
   "name": "python3"
  },
  "language_info": {
   "codemirror_mode": {
    "name": "ipython",
    "version": 3
   },
   "file_extension": ".py",
   "mimetype": "text/x-python",
   "name": "python",
   "nbconvert_exporter": "python",
   "pygments_lexer": "ipython3",
   "version": "3.12.3"
  }
 },
 "nbformat": 4,
 "nbformat_minor": 5
}
