{
 "cells": [
  {
   "cell_type": "code",
   "execution_count": 20,
   "id": "84d22798-12cf-4804-955b-4285cb53e499",
   "metadata": {},
   "outputs": [
    {
     "data": {
      "text/plain": [
       "float"
      ]
     },
     "execution_count": 20,
     "metadata": {},
     "output_type": "execute_result"
    }
   ],
   "source": [
    "f_name='harsh'\n",
    "value=123.212\n",
    "type(value)"
   ]
  },
  {
   "cell_type": "code",
   "execution_count": 25,
   "id": "19083522-1812-452e-bec5-86601b196e4f",
   "metadata": {},
   "outputs": [
    {
     "data": {
      "text/plain": [
       "2033578340032"
      ]
     },
     "execution_count": 25,
     "metadata": {},
     "output_type": "execute_result"
    }
   ],
   "source": [
    "f_name='harsh'\n",
    "value=10\n",
    "v1=10\n",
    "\n",
    "a=[1,2,10]\n",
    "b=[1,2,3]\n",
    "id(b)"
   ]
  },
  {
   "cell_type": "code",
   "execution_count": 2,
   "id": "c75f7940-50d1-4caa-a5c3-8ba2a80b819d",
   "metadata": {
    "scrolled": true
   },
   "outputs": [
    {
     "name": "stdout",
     "output_type": "stream",
     "text": [
      "Function - attributes_code_\n"
     ]
    }
   ],
   "source": []
  },
  {
   "cell_type": "code",
   "execution_count": 26,
   "id": "d6bc4289-7d17-4f17-a48a-25b75805fbcb",
   "metadata": {},
   "outputs": [
    {
     "data": {
      "text/plain": [
       "124"
      ]
     },
     "execution_count": 26,
     "metadata": {},
     "output_type": "execute_result"
    }
   ],
   "source": [
    "ord ('|')"
   ]
  },
  {
   "cell_type": "code",
   "execution_count": 15,
   "id": "1fc2a66f-a94b-4c44-853e-8e8d30754aa2",
   "metadata": {},
   "outputs": [
    {
     "name": "stdin",
     "output_type": "stream",
     "text": [
      "Put the number :  430\n"
     ]
    },
    {
     "name": "stdout",
     "output_type": "stream",
     "text": [
      "3 4 7\n"
     ]
    }
   ],
   "source": [
    "number = int(input(\"Put the number : \"))\n",
    "remainder = 0\n",
    "i=0\n",
    "even_sum=0\n",
    "odd_sum=0\n",
    "while (i<10) :  \n",
    "    remainder = number % 10\n",
    "    number = (number-remainder) / 10\n",
    "    if (remainder % 2 == 0) : \n",
    "        even_sum = even_sum + remainder\n",
    "    else : \n",
    "        odd_sum = odd_sum + remainder\n",
    "    i = i+1\n",
    "final_sum = even_sum + odd_sum \n",
    "print(int(odd_sum),int(even_sum),int(final_sum))"
   ]
  },
  {
   "cell_type": "code",
   "execution_count": null,
   "id": "9ec7d7cd-9e88-43db-b9f1-0e4e405dedc0",
   "metadata": {},
   "outputs": [
    {
     "name": "stdout",
     "output_type": "stream",
     "text": [
      "Login page :\n"
     ]
    }
   ],
   "source": [
    "print(\"Login page :\")\n",
    "user_name=input(\"Enter your username : \")\n",
    "password=input(\"Enter your password : \")\n",
    "if(user_name==\"xyz\" and password==\"12345\"):\n",
    "    print(\"FEEDBACK FORM\")\n",
    "    print(\"\\nPersonal details\\n\")\n",
    "    name=input(\"First Name:\")\n",
    "    last_name=input(\"Last Name:\")\n",
    "    email=input(\"Email:\")\n",
    "    contact=input(\"Contact:\")\n",
    "    semester=input(\"Semester:\")\n",
    "    course_name=input(\"Course name:\")\n",
    "    course_code=input(\"Course code:\")\n",
    "    course_lead=input(\"Course lead name:\")\n",
    "    i=input(\"Would you like to have any another course with same course lead:\\nEnter '1' if yes\\nEnter '2' if no\\n\")\n",
    "    punctuality_level = response.lower()\n",
    "    print(\"Punctuality level of the instructor:\", punctuality_level)\n",
    "    com=int(input(\"communication skills of the couse lead: \\nEnter '5' if too fast\\nEnter '4' if slightly fast\\nEnter '3' if about right\\nEnter '2' if lightly slow\\nEnter '1' if too slow\\n Your choice : \"))\n",
    "    pace=int(input(\"The pace at which material was covered was:\\nEnter '5' if too fast\\nEnter '4' if slightly fast\\nEnter '3' if about right\\nEnter '2' if lightly slow\\nEnter '1' if too slow\\n Your choice : \"))\n",
    "    material=int(input(\"The course materials helped me understand the subject matter:\\nEnter '5' if you strongly agree\\nEnter '4' if you agree\\nEnter '3' if neutral\\nEnter '2' if disagree\\nEnter '1' if strongly disagree\\n Your choice : \"))\n",
    "    skills=int(input(\"In this course, I learned skills or content that I consider valuable:\\nEnter '5' if strongly agree\\nEnter '4' if agree\\nEnter '3' if neutral\\nEnter '2' if disagree\\nEnter '1' if strongly disagree\\n Your choice : \"))\n",
    "    knowledge=int(input(\"What would you say about the knowledge of the course lead:\\nEnter '5' if excellent\\nEnter '4' if good\\nEnter '3' if average\\nEnter '2' if bad\\nEnter '1' if very bad\\n Your choice : \"))\n",
    "    overall=com+pace+material+skills+knowledge  \n",
    "    g=input(\"We would like to hear if you have any comments/suggestions about the course and class.\")\n",
    "    overall_score = (overall/20)*10\n",
    "    if (0<=overall_score<2):\n",
    "        print(\"Your overall satisfaction score is : \",overall_score)\n",
    "        print(\"We are sorry for your extremely bad experience \",name,\" we will consider your feedback in \",course_name,\" course and try making possible improvements.\\nTHANKYOU\")\n",
    "    if (2<=overall_score<4): \n",
    "        print(\"Your overall satisfaction score is : \",overall_score)\n",
    "        print(\"We are sorry for your bad experience \",name,\" we will consider your feedback in \",course_name,\" course and try making possible improvements.\\nTHANKYOU\")\n",
    "    if (4<=overall_score<6):\n",
    "        print(\"Your overall satisfaction score is : \",overall_score)\n",
    "        print(fn,\", your experience was average we will consider your feedbackk in \",course_name,\" course and try making it better.\\nTHANKYOU\")\n",
    "    if (6<=overall_score<8):\n",
    "        print(\"Your overall satisfaction score is : \",overall_score)\n",
    "        print(\"So your overall experience was good \",name,\", we thank you for your positive feedback in \",couse_name,\" course. We will try making it even better.\\nTHANKYOU\")\n",
    "    if (8<=overall_score<10):\n",
    "        print(\"Your overall satisfaction score is : \",overall_score)\n",
    "        print(\"So your overall experience was excellent \",name,\", we thank you for your extremely positive feedback in \",course_name,\" course. We will keep introducing more such cources.\\nTHANKYOU\")\n",
    "else :\n",
    "    print(\"Wrong username or password\")"
   ]
  },
  {
   "cell_type": "markdown",
   "id": "93d98d90-66df-4602-8ce6-ee230c735381",
   "metadata": {},
   "source": [
    "### Read input\n",
    "M = int(input())  # Length of the list\n",
    "elements = input().split(';')  # List elements as strings separated by ';'\n",
    "\n",
    "# Convert elements to integers and calculate sum\n",
    "total_sum = sum(map(int, elements))\n",
    "\n",
    "# Print the sum\n",
    "print(total_sum)"
   ]
  },
  {
   "cell_type": "code",
   "execution_count": 7,
   "id": "3cee8e60-cb49-44a8-a02b-6aabc7702c4a",
   "metadata": {},
   "outputs": [
    {
     "name": "stdin",
     "output_type": "stream",
     "text": [
      " 2\n",
      " 3,2,4,2\n"
     ]
    },
    {
     "name": "stdout",
     "output_type": "stream",
     "text": [
      "11\n"
     ]
    }
   ],
   "source": [
    "# Read input\n",
    "M = int(input())  # Length of the list\n",
    "elements = input().split(',')  # List elements as strings separated by ','\n",
    "\n",
    "# Convert elements to integers and calculate sum\n",
    "total_sum = sum(map(int, elements))\n",
    "\n",
    "# Print the sum\n",
    "print(total_sum)\n"
   ]
  },
  {
   "cell_type": "code",
   "execution_count": 8,
   "id": "402de456-4b92-475a-be1f-260b254addf1",
   "metadata": {},
   "outputs": [
    {
     "name": "stdout",
     "output_type": "stream",
     "text": [
      "Welcome to Python 3.12's help utility! If this is your first time using\n",
      "Python, you should definitely check out the tutorial at\n",
      "https://docs.python.org/3.12/tutorial/.\n",
      "\n",
      "Enter the name of any module, keyword, or topic to get help on writing\n",
      "Python programs and using Python modules.  To get a list of available\n",
      "modules, keywords, symbols, or topics, enter \"modules\", \"keywords\",\n",
      "\"symbols\", or \"topics\".\n",
      "\n",
      "Each module also comes with a one-line summary of what it does; to list\n",
      "the modules whose name or summary contain a given string such as \"spam\",\n",
      "enter \"modules spam\".\n",
      "\n",
      "To quit this help utility and return to the interpreter,\n",
      "enter \"q\" or \"quit\".\n",
      "\n"
     ]
    },
    {
     "name": "stdin",
     "output_type": "stream",
     "text": [
      "help>  list\n"
     ]
    },
    {
     "name": "stdout",
     "output_type": "stream",
     "text": [
      "Help on class list in module builtins:\n",
      "\n",
      "class list(object)\n",
      " |  list(iterable=(), /)\n",
      " |\n",
      " |  Built-in mutable sequence.\n",
      " |\n",
      " |  If no argument is given, the constructor creates a new empty list.\n",
      " |  The argument must be an iterable if specified.\n",
      " |\n",
      " |  Methods defined here:\n",
      " |\n",
      " |  __add__(self, value, /)\n",
      " |      Return self+value.\n",
      " |\n",
      " |  __contains__(self, key, /)\n",
      " |      Return bool(key in self).\n",
      " |\n",
      " |  __delitem__(self, key, /)\n",
      " |      Delete self[key].\n",
      " |\n",
      " |  __eq__(self, value, /)\n",
      " |      Return self==value.\n",
      " |\n",
      " |  __ge__(self, value, /)\n",
      " |      Return self>=value.\n",
      " |\n",
      " |  __getattribute__(self, name, /)\n",
      " |      Return getattr(self, name).\n",
      " |\n",
      " |  __getitem__(self, index, /)\n",
      " |      Return self[index].\n",
      " |\n",
      " |  __gt__(self, value, /)\n",
      " |      Return self>value.\n",
      " |\n",
      " |  __iadd__(self, value, /)\n",
      " |      Implement self+=value.\n",
      " |\n",
      " |  __imul__(self, value, /)\n",
      " |      Implement self*=value.\n",
      " |\n",
      " |  __init__(self, /, *args, **kwargs)\n",
      " |      Initialize self.  See help(type(self)) for accurate signature.\n",
      " |\n",
      " |  __iter__(self, /)\n",
      " |      Implement iter(self).\n",
      " |\n",
      " |  __le__(self, value, /)\n",
      " |      Return self<=value.\n",
      " |\n",
      " |  __len__(self, /)\n",
      " |      Return len(self).\n",
      " |\n",
      " |  __lt__(self, value, /)\n",
      " |      Return self<value.\n",
      " |\n",
      " |  __mul__(self, value, /)\n",
      " |      Return self*value.\n",
      " |\n",
      " |  __ne__(self, value, /)\n",
      " |      Return self!=value.\n",
      " |\n",
      " |  __repr__(self, /)\n",
      " |      Return repr(self).\n",
      " |\n",
      " |  __reversed__(self, /)\n",
      " |      Return a reverse iterator over the list.\n",
      " |\n",
      " |  __rmul__(self, value, /)\n",
      " |      Return value*self.\n",
      " |\n",
      " |  __setitem__(self, key, value, /)\n",
      " |      Set self[key] to value.\n",
      " |\n",
      " |  __sizeof__(self, /)\n",
      " |      Return the size of the list in memory, in bytes.\n",
      " |\n",
      " |  append(self, object, /)\n",
      " |      Append object to the end of the list.\n",
      " |\n",
      " |  clear(self, /)\n",
      " |      Remove all items from list.\n",
      " |\n",
      " |  copy(self, /)\n",
      " |      Return a shallow copy of the list.\n",
      " |\n",
      " |  count(self, value, /)\n",
      " |      Return number of occurrences of value.\n",
      " |\n",
      " |  extend(self, iterable, /)\n",
      " |      Extend list by appending elements from the iterable.\n",
      " |\n",
      " |  index(self, value, start=0, stop=9223372036854775807, /)\n",
      " |      Return first index of value.\n",
      " |\n",
      " |      Raises ValueError if the value is not present.\n",
      " |\n",
      " |  insert(self, index, object, /)\n",
      " |      Insert object before index.\n",
      " |\n",
      " |  pop(self, index=-1, /)\n",
      " |      Remove and return item at index (default last).\n",
      " |\n",
      " |      Raises IndexError if list is empty or index is out of range.\n",
      " |\n",
      " |  remove(self, value, /)\n",
      " |      Remove first occurrence of value.\n",
      " |\n",
      " |      Raises ValueError if the value is not present.\n",
      " |\n",
      " |  reverse(self, /)\n",
      " |      Reverse *IN PLACE*.\n",
      " |\n",
      " |  sort(self, /, *, key=None, reverse=False)\n",
      " |      Sort the list in ascending order and return None.\n",
      " |\n",
      " |      The sort is in-place (i.e. the list itself is modified) and stable (i.e. the\n",
      " |      order of two equal elements is maintained).\n",
      " |\n",
      " |      If a key function is given, apply it once to each list item and sort them,\n",
      " |      ascending or descending, according to their function values.\n",
      " |\n",
      " |      The reverse flag can be set to sort in descending order.\n",
      " |\n",
      " |  ----------------------------------------------------------------------\n",
      " |  Class methods defined here:\n",
      " |\n",
      " |  __class_getitem__(...) from builtins.type\n",
      " |      See PEP 585\n",
      " |\n",
      " |  ----------------------------------------------------------------------\n",
      " |  Static methods defined here:\n",
      " |\n",
      " |  __new__(*args, **kwargs) from builtins.type\n",
      " |      Create and return a new object.  See help(type) for accurate signature.\n",
      " |\n",
      " |  ----------------------------------------------------------------------\n",
      " |  Data and other attributes defined here:\n",
      " |\n",
      " |  __hash__ = None\n",
      "\n",
      "\n",
      "You are now leaving help and returning to the Python interpreter.\n",
      "If you want to ask for help on a particular object directly from the\n",
      "interpreter, you can type \"help(object)\".  Executing \"help('string')\"\n",
      "has the same effect as typing a particular string at the help> prompt.\n"
     ]
    }
   ],
   "source": [
    "help()\n"
   ]
  },
  {
   "cell_type": "code",
   "execution_count": 9,
   "id": "5aeefd54-680d-484d-9dd1-c2f742f75770",
   "metadata": {},
   "outputs": [
    {
     "name": "stdin",
     "output_type": "stream",
     "text": [
      "Enter:  2\n",
      " 2\n"
     ]
    }
   ],
   "source": [
    "# Code for sum of elements in list\n",
    "# give the length of list\n",
    "m=int(input(\"Enter: \"))\n",
    "# c=elements\n",
    "c=int(input())"
   ]
  },
  {
   "cell_type": "markdown",
   "id": "d6ba78cb-3f87-44b8-91e3-c44f85c04b40",
   "metadata": {},
   "source": [
    "#Code for sum of elements in list\n",
    "#give the length of list\n",
    "m=int(input(\"Enter: \"))\n",
    "# c=elements\n",
    "c=input().splits(',')\n",
    "sum=sum(map(int,c))\n",
    "print(sum)"
   ]
  },
  {
   "cell_type": "code",
   "execution_count": null,
   "id": "0f3c94ee-d715-4ba6-9282-fedb0f05e414",
   "metadata": {},
   "outputs": [],
   "source": []
  },
  {
   "cell_type": "code",
   "execution_count": 10,
   "id": "027e003d-f79e-46c8-ab0e-ba12429bbb6e",
   "metadata": {},
   "outputs": [
    {
     "name": "stdout",
     "output_type": "stream",
     "text": [
      "*\n",
      "*\n",
      "*\n",
      "*\n",
      "*\n",
      "*\n",
      "*\n",
      "*\n",
      "*\n",
      "*\n",
      " \n"
     ]
    }
   ],
   "source": [
    "i=1\n",
    "j=1\n",
    "for i in range(1,5):\n",
    "    for j in range(1,i+1):\n",
    "        print(\"*\")\n",
    "print(\" \")        \n",
    "        "
   ]
  },
  {
   "cell_type": "code",
   "execution_count": 7,
   "id": "041cd158-3bb5-465c-bc40-06e7ac32f928",
   "metadata": {},
   "outputs": [],
   "source": [
    "import turtle\n",
    "har=turtle.Turtle()\n",
    "har.shape(\"classic\")\n",
    "har.color(\"red\")\n",
    "wn=turtle.Screen()\n",
    "wn.bgcolor(\"black\")\n",
    "wn.title(\"practice\")\n"
   ]
  },
  {
   "cell_type": "code",
   "execution_count": null,
   "id": "afb263c2-86c1-466d-a026-b599beee1d01",
   "metadata": {},
   "outputs": [],
   "source": []
  }
 ],
 "metadata": {
  "kernelspec": {
   "display_name": "Python 3 (ipykernel)",
   "language": "python",
   "name": "python3"
  },
  "language_info": {
   "codemirror_mode": {
    "name": "ipython",
    "version": 3
   },
   "file_extension": ".py",
   "mimetype": "text/x-python",
   "name": "python",
   "nbconvert_exporter": "python",
   "pygments_lexer": "ipython3",
   "version": "3.12.3"
  }
 },
 "nbformat": 4,
 "nbformat_minor": 5
}
